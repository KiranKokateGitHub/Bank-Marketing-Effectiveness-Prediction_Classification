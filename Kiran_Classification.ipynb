{
  "nbformat": 4,
  "nbformat_minor": 0,
  "metadata": {
    "colab": {
      "private_outputs": true,
      "provenance": [],
      "collapsed_sections": [
        "FJNUwmbgGyua",
        "448CDAPjqfQr",
        "KSlN3yHqYklG",
        "t6dVpIINYklI",
        "ijmpgYnKYklI",
        "-JiQyfWJYklI",
        "EM7whBJCYoAo",
        "fge-S5ZAYoAp",
        "85gYPyotYoAp",
        "RoGjAbkUYoAp",
        "4Of9eVA-YrdM",
        "iky9q4vBYrdO",
        "F6T5p64dYrdO",
        "y-Ehk30pYrdP",
        "bamQiAODYuh1",
        "QHF8YVU7Yuh3",
        "GwzvFGzlYuh3",
        "qYpmQ266Yuh3",
        "OH-pJp9IphqM",
        "bbFf2-_FphqN",
        "_ouA3fa0phqN",
        "Seke61FWphqN",
        "PIIx-8_IphqN",
        "t27r6nlMphqO",
        "r2jJGEOYphqO",
        "b0JNsNcRphqO",
        "BZR9WyysphqO",
        "jj7wYXLtphqO",
        "eZrbJ2SmphqO",
        "rFu4xreNphqO",
        "YJ55k-q6phqO",
        "gCFgpxoyphqP",
        "OVtJsKN_phqQ",
        "lssrdh5qphqQ",
        "U2RJ9gkRphqQ",
        "1M8mcRywphqQ",
        "tgIPom80phqQ",
        "JMzcOPDDphqR",
        "x-EpHcCOp1ci",
        "X_VqEhTip1ck",
        "8zGJKyg5p1ck",
        "PVzmfK_Ep1ck",
        "n3dbpmDWp1ck",
        "ylSl6qgtp1ck",
        "ZWILFDl5p1ck",
        "M7G43BXep1ck",
        "Ag9LCva-p1cl",
        "E6MkPsBcp1cl",
        "2cELzS2fp1cl",
        "3MPXvC8up1cl",
        "NC_X3p0fY2L0",
        "UV0SzAkaZNRQ",
        "YPEH6qLeZNRQ",
        "q29F0dvdveiT",
        "EXh0U9oCveiU",
        "22aHeOlLveiV",
        "g-ATYxFrGrvw",
        "Yfr_Vlr8HBkt",
        "8yEUt7NnHlrM",
        "tEA2Xm5dHt1r",
        "I79__PHVH19G",
        "Ou-I18pAyIpj",
        "fF3858GYyt-u",
        "4_0_7-oCpUZd",
        "hwyV_J3ipUZe",
        "3yB-zSqbpUZe",
        "dEUvejAfpUZe",
        "Fd15vwWVpUZf",
        "bn_IUdTipZyH",
        "49K5P_iCpZyH",
        "Nff-vKELpZyI",
        "kLW572S8pZyI",
        "dWbDXHzopZyI",
        "yLjJCtPM0KBk",
        "xiyOF9F70UgQ",
        "7wuGOrhz0itI",
        "id1riN9m0vUs",
        "578E2V7j08f6",
        "89xtkJwZ18nB",
        "67NQN5KX2AMe",
        "Iwf50b-R2tYG",
        "GMQiZwjn3iu7",
        "WVIkgGqN3qsr",
        "XkPnILGE3zoT",
        "Hlsf0x5436Go",
        "mT9DMSJo4nBL",
        "c49ITxTc407N",
        "OeJFEK0N496M",
        "9ExmJH0g5HBk",
        "cJNqERVU536h",
        "k5UmGsbsOxih",
        "T0VqWOYE6DLQ",
        "qBMux9mC6MCf",
        "-oLEiFgy-5Pf",
        "C74aWNz2AliB",
        "2DejudWSA-a0",
        "pEMng2IbBLp7",
        "rAdphbQ9Bhjc",
        "TNVZ9zx19K6k",
        "nqoHp30x9hH9",
        "rMDnDkt2B6du",
        "yiiVWRdJDDil",
        "1UUpS68QDMuG",
        "kexQrXU-DjzY",
        "T5CmagL3EC8N",
        "BhH2vgX9EjGr",
        "qjKvONjwE8ra",
        "P1XJ9OREExlT",
        "VFOzZv6IFROw",
        "TIqpNgepFxVj",
        "VfCC591jGiD4",
        "OB4l2ZhMeS1U",
        "ArJBuiUVfxKd",
        "4qY1EAkEfxKe",
        "PiV4Ypx8fxKe",
        "TfvqoZmBfxKf",
        "dJ2tPlVmpsJ0",
        "JWYfwnehpsJ1",
        "-jK_YjpMpsJ2",
        "HAih1iBOpsJ2",
        "zVGeBEFhpsJ2",
        "bmKjuQ-FpsJ3",
        "Fze-IPXLpx6K",
        "7AN1z2sKpx6M",
        "9PIHJqyupx6M",
        "_-qAgymDpx6N",
        "Z-hykwinpx6N",
        "h_CCil-SKHpo",
        "cBFFvTBNJzUa",
        "HvGl1hHyA_VK",
        "EyNgTHvd2WFk",
        "KH5McJBi2d8v",
        "iW_Lq9qf2h6X",
        "-Kee-DAl2viO",
        "gCX9965dhzqZ",
        "gIfDvo9L0UH2"
      ],
      "include_colab_link": true
    },
    "kernelspec": {
      "name": "python3",
      "display_name": "Python 3"
    },
    "language_info": {
      "name": "python"
    }
  },
  "cells": [
    {
      "cell_type": "markdown",
      "metadata": {
        "id": "view-in-github",
        "colab_type": "text"
      },
      "source": [
        "<a href=\"https://colab.research.google.com/github/kirankokateGitHub/Classification2/blob/main/Kiran_Classification.ipynb\" target=\"_parent\"><img src=\"https://colab.research.google.com/assets/colab-badge.svg\" alt=\"Open In Colab\"/></a>"
      ]
    },
    {
      "cell_type": "markdown",
      "source": [
        "# **Project Name**- Classification\n",
        "\n"
      ],
      "metadata": {
        "id": "vncDsAP0Gaoa"
      }
    },
    {
      "cell_type": "markdown",
      "source": [
        "##### **Project Type**    - Classification\n",
        "##### **Contribution**    - Individual\n",
        "##### **Team Member 1 -** Kiran"
      ],
      "metadata": {
        "id": "beRrZCGUAJYm"
      }
    },
    {
      "cell_type": "markdown",
      "source": [
        "# **Project Summary -**"
      ],
      "metadata": {
        "id": "FJNUwmbgGyua"
      }
    },
    {
      "cell_type": "markdown",
      "source": [
        "Write the summary here within 500-600 words."
      ],
      "metadata": {
        "id": "F6v_1wHtG2nS"
      }
    },
    {
      "cell_type": "markdown",
      "source": [
        "# **GitHub Link -**"
      ],
      "metadata": {
        "id": "w6K7xa23Elo4"
      }
    },
    {
      "cell_type": "markdown",
      "source": [
        "https://github.com/kirankokateGitHub/Classification2"
      ],
      "metadata": {
        "id": "h1o69JH3Eqqn"
      }
    },
    {
      "cell_type": "markdown",
      "source": [
        "# **Problem Statement**\n"
      ],
      "metadata": {
        "id": "yQaldy8SH6Dl"
      }
    },
    {
      "cell_type": "markdown",
      "source": [
        "The data is related with direct marketing campaigns (phone calls) of a Portuguese banking institution. The marketing campaigns were based on phone calls. Often, more than one contact to the same client was required, in order to access if the product (bank term deposit) would be ('yes') or not ('no') subscribed. The classification goal is to predict if the client will subscribe a term deposit (variable y)."
      ],
      "metadata": {
        "id": "DpeJGUA3kjGy"
      }
    },
    {
      "cell_type": "markdown",
      "source": [
        "# **General Guidelines** : -  "
      ],
      "metadata": {
        "id": "mDgbUHAGgjLW"
      }
    },
    {
      "cell_type": "markdown",
      "source": [
        "1.   Well-structured, formatted, and commented code is required.\n",
        "2.   Exception Handling, Production Grade Code & Deployment Ready Code will be a plus. Those students will be awarded some additional credits.\n",
        "     \n",
        "     The additional credits will have advantages over other students during Star Student selection.\n",
        "       \n",
        "             [ Note: - Deployment Ready Code is defined as, the whole .ipynb notebook should be executable in one go\n",
        "                       without a single error logged. ]\n",
        "\n",
        "3.   Each and every logic should have proper comments.\n",
        "4. You may add as many number of charts you want. Make Sure for each and every chart the following format should be answered.\n",
        "        \n",
        "\n",
        "```\n",
        "# Chart visualization code\n",
        "```\n",
        "            \n",
        "\n",
        "*   Why did you pick the specific chart?\n",
        "*   What is/are the insight(s) found from the chart?\n",
        "* Will the gained insights help creating a positive business impact?\n",
        "Are there any insights that lead to negative growth? Justify with specific reason.\n",
        "\n",
        "5. You have to create at least 15 logical & meaningful charts having important insights.\n",
        "\n",
        "\n",
        "[ Hints : - Do the Vizualization in  a structured way while following \"UBM\" Rule.\n",
        "\n",
        "U - Univariate Analysis,\n",
        "\n",
        "B - Bivariate Analysis (Numerical - Categorical, Numerical - Numerical, Categorical - Categorical)\n",
        "\n",
        "M - Multivariate Analysis\n",
        " ]\n",
        "\n",
        "\n",
        "\n",
        "\n",
        "\n",
        "6. You may add more ml algorithms for model creation. Make sure for each and every algorithm, the following format should be answered.\n",
        "\n",
        "\n",
        "*   Explain the ML Model used and it's performance using Evaluation metric Score Chart.\n",
        "\n",
        "\n",
        "*   Cross- Validation & Hyperparameter Tuning\n",
        "\n",
        "*   Have you seen any improvement? Note down the improvement with updates Evaluation metric Score Chart.\n",
        "\n",
        "*   Explain each evaluation metric's indication towards business and the business impact pf the ML model used.\n",
        "\n",
        "\n",
        "\n",
        "\n",
        "\n",
        "\n",
        "\n",
        "\n",
        "\n",
        "\n",
        "\n",
        "\n",
        "\n",
        "\n",
        "\n",
        "\n",
        "\n",
        "\n"
      ],
      "metadata": {
        "id": "ZrxVaUj-hHfC"
      }
    },
    {
      "cell_type": "markdown",
      "source": [
        "# ***Let's Begin !***"
      ],
      "metadata": {
        "id": "O_i_v8NEhb9l"
      }
    },
    {
      "cell_type": "markdown",
      "source": [
        "## ***1. Know Your Data***"
      ],
      "metadata": {
        "id": "HhfV-JJviCcP"
      }
    },
    {
      "cell_type": "markdown",
      "source": [
        "### Import Libraries"
      ],
      "metadata": {
        "id": "Y3lxredqlCYt"
      }
    },
    {
      "cell_type": "code",
      "source": [
        "# Import Library  for numerical python\n",
        "import pandas as pd\n",
        "\n",
        "# Import libraries for visulization\n",
        "import matplotlib.pyplot as plt\n",
        "%matplotlib inline\n",
        "import seaborn as sns\n",
        "\n",
        "# For doing scientific computation and necessary processing of array elements import belows.\n",
        "import numpy as np\n",
        "from scipy.stats import norm\n",
        "\n",
        "# For printing tabular data\n",
        "from tabulate import tabulate\n",
        "\n",
        "# To plot feature importance import below package\n",
        "from sklearn.feature_selection import mutual_info_classif\n",
        "\n",
        "# To handle class imbalance\n",
        "from imblearn.over_sampling import SMOTE\n",
        "\n",
        "# to Split dataset into train and test datasets\n",
        "from sklearn.model_selection import train_test_split\n",
        "\n",
        "# For doing Cross-Validation and Hyperparameter Tuning import below packages\n",
        "from sklearn.model_selection import GridSearchCV\n",
        "\n",
        "# To Scale dataset\n",
        "from sklearn.preprocessing import MinMaxScaler\n",
        "\n",
        "# Import machine learninig  algorithams to build model\n",
        "from sklearn.linear_model import LogisticRegression\n",
        "from sklearn.tree import DecisionTreeClassifier\n",
        "from sklearn.ensemble import RandomForestClassifier\n",
        "from sklearn.ensemble import GradientBoostingClassifier\n",
        "from xgboost import XGBClassifier\n",
        "from sklearn.neighbors import KNeighborsClassifier\n",
        "from sklearn.naive_bayes import GaussianNB\n",
        "from sklearn.svm import SVC\n",
        "\n",
        "# Import Evaluation metrics to check performance of models\n",
        "from sklearn.metrics import confusion_matrix, accuracy_score, precision_score, recall_score, f1_score, roc_auc_score, roc_curve, auc\n",
        "\n",
        "# To plot Decision Tree import necessary assembalance\n",
        "from sklearn.tree import DecisionTreeClassifier, export_graphviz\n",
        "from sklearn import tree\n",
        "from IPython.display import SVG\n",
        "from graphviz import Source\n",
        "from IPython.display import display\n",
        "\n",
        "# Import keras to buil Artificial Neural Networks\n",
        "import keras\n",
        "from keras.models import Sequential\n",
        "from keras.layers import Dense\n",
        "from keras.optimizers import Adam\n",
        "from keras.layers import Dropout\n",
        "from keras import regularizers\n",
        "\n",
        "# Import shap to explain model\n",
        "!pip install shap\n",
        "import shap\n",
        "\n",
        "# Import ignore warnings\n",
        "import warnings\n",
        "warnings.filterwarnings('ignore')"
      ],
      "metadata": {
        "id": "M8Vqi-pPk-HR"
      },
      "execution_count": null,
      "outputs": []
    },
    {
      "cell_type": "markdown",
      "source": [
        "### Dataset Loading"
      ],
      "metadata": {
        "id": "3RnN4peoiCZX"
      }
    },
    {
      "cell_type": "code",
      "source": [
        "# Load Dataset\n"
      ],
      "metadata": {
        "id": "4CkvbW_SlZ_R"
      },
      "execution_count": null,
      "outputs": []
    },
    {
      "cell_type": "code",
      "source": [
        "from google.colab import drive\n",
        "drive.mount('/content/drive')"
      ],
      "metadata": {
        "id": "aR8Lt6ggzOCn"
      },
      "execution_count": null,
      "outputs": []
    },
    {
      "cell_type": "code",
      "source": [
        "path= ('/content/drive/MyDrive/bank-full.csv')\n",
        "# name the bank dataframe file in short as bndf\n",
        "bndf = pd.read_csv(path, sep=';')"
      ],
      "metadata": {
        "id": "VdPJhfq2z2j-"
      },
      "execution_count": null,
      "outputs": []
    },
    {
      "cell_type": "code",
      "source": [
        "bndf"
      ],
      "metadata": {
        "id": "5OFELFrD8I3g"
      },
      "execution_count": null,
      "outputs": []
    },
    {
      "cell_type": "markdown",
      "source": [
        "### Dataset First View"
      ],
      "metadata": {
        "id": "x71ZqKXriCWQ"
      }
    },
    {
      "cell_type": "code",
      "source": [
        "# Dataset First Look\n",
        "bndf.head()"
      ],
      "metadata": {
        "id": "LWNFOSvLl09H"
      },
      "execution_count": null,
      "outputs": []
    },
    {
      "cell_type": "code",
      "source": [
        "bndf.tail()"
      ],
      "metadata": {
        "id": "Cd-T0OKo1M8q"
      },
      "execution_count": null,
      "outputs": []
    },
    {
      "cell_type": "code",
      "source": [
        "bndf.sample(5)"
      ],
      "metadata": {
        "id": "napLQqLl1Qfv"
      },
      "execution_count": null,
      "outputs": []
    },
    {
      "cell_type": "markdown",
      "source": [
        "### Dataset Rows & Columns count"
      ],
      "metadata": {
        "id": "7hBIi_osiCS2"
      }
    },
    {
      "cell_type": "code",
      "source": [
        "# Dataset Rows & Columns count\n",
        "bndf.shape"
      ],
      "metadata": {
        "id": "Kllu7SJgmLij"
      },
      "execution_count": null,
      "outputs": []
    },
    {
      "cell_type": "code",
      "source": [
        "bndf.columns"
      ],
      "metadata": {
        "id": "qCvoUNZ_5j5N"
      },
      "execution_count": null,
      "outputs": []
    },
    {
      "cell_type": "markdown",
      "source": [
        "### Dataset Information"
      ],
      "metadata": {
        "id": "JlHwYmJAmNHm"
      }
    },
    {
      "cell_type": "code",
      "source": [
        "# Dataset Info\n",
        "bndf.info()"
      ],
      "metadata": {
        "id": "e9hRXRi6meOf"
      },
      "execution_count": null,
      "outputs": []
    },
    {
      "cell_type": "markdown",
      "source": [
        "#### Duplicate Values"
      ],
      "metadata": {
        "id": "35m5QtbWiB9F"
      }
    },
    {
      "cell_type": "code",
      "source": [
        "# Dataset Duplicate Value Count\n",
        "duplicate_rows = bndf.duplicated()\n",
        "duplicate_rows"
      ],
      "metadata": {
        "id": "1sLdpKYkmox0"
      },
      "execution_count": null,
      "outputs": []
    },
    {
      "cell_type": "code",
      "source": [
        "num_duplicates = duplicate_rows.sum()\n",
        "num_duplicates"
      ],
      "metadata": {
        "id": "rc-La36p2mJO"
      },
      "execution_count": null,
      "outputs": []
    },
    {
      "cell_type": "markdown",
      "source": [
        "#### Missing Values/Null Values"
      ],
      "metadata": {
        "id": "PoPl-ycgm1ru"
      }
    },
    {
      "cell_type": "code",
      "source": [
        "# Missing Values/Null Values Count\n",
        "null= bndf.isnull().sum()\n",
        "null"
      ],
      "metadata": {
        "id": "GgHWkxvamxVg"
      },
      "execution_count": null,
      "outputs": []
    },
    {
      "cell_type": "code",
      "source": [
        "# Checking for number of null values\n",
        "count_null_df = pd.DataFrame({'columns':bndf.columns,'number_of_nulls_values':bndf.isna().sum(),'percentage_null_values':round(bndf.isna().sum()*100/len(bndf),2)})\n",
        "count_null_df.set_index('columns').sort_values(by='percentage_null_values', ascending = False)"
      ],
      "metadata": {
        "id": "IefU2BbJjexs"
      },
      "execution_count": null,
      "outputs": []
    },
    {
      "cell_type": "code",
      "source": [
        "# Visualizing the missing values\n",
        "import missingno as msno\n",
        "msno.bar(bndf)\n",
        "plt.title('Percentage of Missing Values in Each Column')\n",
        "plt.show()"
      ],
      "metadata": {
        "id": "3q5wnI3om9sJ"
      },
      "execution_count": null,
      "outputs": []
    },
    {
      "cell_type": "markdown",
      "source": [
        "### What did you know about your dataset?"
      ],
      "metadata": {
        "id": "H0kj-8xxnORC"
      }
    },
    {
      "cell_type": "markdown",
      "source": [
        "There are 45211 rows and 17 columns.\n",
        "\n",
        "There are no null values.\n",
        "\n",
        "There are no duplicated values.\n",
        "\n",
        "In the dataset, there are object, float64, and int64 dtypes features present."
      ],
      "metadata": {
        "id": "gfoNAAC-nUe_"
      }
    },
    {
      "cell_type": "markdown",
      "source": [
        "## ***2. Understanding Your Variables***"
      ],
      "metadata": {
        "id": "nA9Y7ga8ng1Z"
      }
    },
    {
      "cell_type": "code",
      "source": [
        "# Dataset Columns\n",
        "bndf.columns"
      ],
      "metadata": {
        "id": "j7xfkqrt5Ag5"
      },
      "execution_count": null,
      "outputs": []
    },
    {
      "cell_type": "code",
      "source": [
        "# Dataset Describe\n",
        "bndf.describe(include='all').T"
      ],
      "metadata": {
        "id": "DnOaZdaE5Q5t"
      },
      "execution_count": null,
      "outputs": []
    },
    {
      "cell_type": "code",
      "source": [
        "# Let's Find the categorical variables of the dataframe\n",
        "cat_var = [var for var in bndf.columns if bndf[var].dtype=='O']\n",
        "print('There are {} categorical variables present in the dataframe'.format(len(cat_var)))\n",
        "print('--'*45)\n",
        "print(cat_var)"
      ],
      "metadata": {
        "id": "66qwjufYvYrb"
      },
      "execution_count": null,
      "outputs": []
    },
    {
      "cell_type": "code",
      "source": [
        "# Let's Find numerical variables for the dataframe\n",
        "num_var = [var for var in bndf.columns if var not in cat_var]\n",
        "print('There are {} numerical variables present in our dataframrme ='.format(len(num_var)))\n",
        "print('--'*45)\n",
        "print(num_var)"
      ],
      "metadata": {
        "id": "rnn-eVhaxDQR"
      },
      "execution_count": null,
      "outputs": []
    },
    {
      "cell_type": "code",
      "source": [
        "# Let's Check Unique Values and their frequency for each variable\n",
        "for var in bndf.columns:\n",
        "    print(bndf[var].value_counts())\n",
        "    print('--'*45)"
      ],
      "metadata": {
        "id": "JqlqTlQXxtFc"
      },
      "execution_count": null,
      "outputs": []
    },
    {
      "cell_type": "markdown",
      "source": [
        "This dataset contains 10 categorical variables: job, marital, education, default, housing, loan, contact, month, poutcome, and y.\n",
        "\n",
        "Among these variables, there are unknown values for job (288 occurrences), education (1857 occurrences), contact (13020 occurrences), and poutcome (36959 occurrences).\n",
        "\n",
        "These unknown values are not defined and can be considered as null. As a part of data treatment, we can handle these unknown values by treating them as missing or null values and exclude them from the features used in our analysis.\n",
        "\n",
        "\n",
        "Additionally, the dataset includes 7 numerical variables: age, balance, day, duration, campaign, pdays, and previous.\n"
      ],
      "metadata": {
        "id": "92f9gIdXzFQC"
      }
    },
    {
      "cell_type": "markdown",
      "source": [
        "### Variables Description"
      ],
      "metadata": {
        "id": "PBTbrJXOngz2"
      }
    },
    {
      "cell_type": "markdown",
      "source": [
        "Answer Here"
      ],
      "metadata": {
        "id": "aJV4KIxSnxay"
      }
    },
    {
      "cell_type": "markdown",
      "source": [
        "age: age of client (numeric)\n",
        "\n",
        "job : type of job (categorical: 'admin.','blue-collar','entrepreneur','housemaid','management','retired','self-employed','services','student','technician','unemployed','unknown')\n",
        "\n",
        "marital : marital status (categorical: 'divorced','married','single','unknown'; note: 'divorced' means divorced or widowed)\n",
        "\n",
        "education (categorical: 'basic.4y','basic.6y','basic.9y','high.school','illiterate','professional.course','university.degree','unknown')\n",
        "\n",
        "default: has credit in default? (categorical: 'no','yes','unknown')\n",
        "\n",
        "housing: has housing loan? (categorical: 'no','yes','unknown')\n",
        "\n",
        "loan: has personal loan? (categorical: 'no','yes','unknown')\n",
        "\n",
        "contact: contact communication type (categorical: 'cellular','telephone')\n",
        "\n",
        "month: last contact month of year (categorical: 'jan', 'feb', 'mar', ..., 'nov', 'dec')\n",
        "\n",
        "balance: Account balance of client\n",
        "\n",
        "day: last contact day of the month\n",
        "\n",
        "duration: last contact duration, in seconds (numeric).\n",
        "\n",
        "Important note: this attribute highly affects the output target (e.g., if duration=0 then y='no'). Yet, the duration is not known before a call is performed. Also, after the end of the call y is obviously known. Thus, this input should only be included for benchmark purposes and should be discarded if the intention is to have a realistic predictive model.\n",
        "\n",
        "campaign: number of contacts performed during this campaign and for this client (numeric, includes last contact)\n",
        "\n",
        "\n",
        "pdays: number of days that passed by after the client was last contacted from a previous campaign (numeric; -1 means client was not previously contacted)\n",
        "\n",
        "previous: number of contacts performed before this campaign and for this client (numeric)\n",
        "\n",
        "poutcome: outcome of the previous marketing campaign (categorical: 'failure','nonexistent','success')\n",
        "\n",
        "y (target Variable) - has the client subscribed a term deposit? (binary: 'yes','no')."
      ],
      "metadata": {
        "id": "sqgzTq1XHN6Q"
      }
    },
    {
      "cell_type": "markdown",
      "source": [
        "### Check Unique Values for each variable."
      ],
      "metadata": {
        "id": "u3PMJOP6ngxN"
      }
    },
    {
      "cell_type": "code",
      "source": [
        "# Check Unique Values for each variable.\n",
        "bndf.nunique()"
      ],
      "metadata": {
        "id": "zms12Yq5n-jE"
      },
      "execution_count": null,
      "outputs": []
    },
    {
      "cell_type": "markdown",
      "source": [
        "## 3. ***Data Wrangling***"
      ],
      "metadata": {
        "id": "dauF4eBmngu3"
      }
    },
    {
      "cell_type": "markdown",
      "source": [
        "### Data Wrangling Code"
      ],
      "metadata": {
        "id": "bKJF3rekwFvQ"
      }
    },
    {
      "cell_type": "code",
      "source": [
        "# Write your code to make your dataset analysis ready.\n",
        "# Let's Replace the unknown values with null across all the dataset\n",
        "bndf = bndf.replace('unknown', np.nan)"
      ],
      "metadata": {
        "id": "wk-9a2fpoLcV"
      },
      "execution_count": null,
      "outputs": []
    },
    {
      "cell_type": "code",
      "source": [
        "# Let's Check number of null values present in dataframe\n",
        "count_of_null_df = pd.DataFrame({'columns':bndf.columns,'number_of_nulls_values':bndf.isna().sum(),'percentage_null_values':round(bndf.isna().sum()*100/len(bndf),2)})\n",
        "count_of_null_df.set_index('columns').sort_values(by='percentage_null_values', ascending = False)"
      ],
      "metadata": {
        "id": "9DPD54iF_5u7"
      },
      "execution_count": null,
      "outputs": []
    },
    {
      "cell_type": "code",
      "source": [
        "# Let's Plot the number of null values in dataframe with their variable\n",
        "plt.figure(figsize=(8,4))\n",
        "ax = sns.barplot(x='columns', y='percentage_null_values', data=count_of_null_df)\n",
        "ax.bar_label(ax.containers[0])\n",
        "plt.title('Percentage of null values present in dataframe with respect to Features')\n",
        "plt.xticks(rotation= 45)\n",
        "plt.show()"
      ],
      "metadata": {
        "id": "KkDGBHhaBUdi"
      },
      "execution_count": null,
      "outputs": []
    },
    {
      "cell_type": "markdown",
      "source": [
        "# As we can above variables namely- poutcome, contact, aducation and job has 81.75, 28.8, 4.11 ānd 0.64 percentage of null values."
      ],
      "metadata": {
        "id": "X8MMJgZ1ChQ3"
      }
    },
    {
      "cell_type": "code",
      "source": [
        "# Let's Vizualize the null values present in the dataset\n",
        "plt.figure(figsize=(10,4))\n",
        "sns.heatmap(bndf.isnull(), cbar=True, vmin=-1, cmap='coolwarm')\n",
        "plt.title('Missing values present in the dataset with respect to its features/columns')"
      ],
      "metadata": {
        "id": "GdVy63QjC_Gz"
      },
      "execution_count": null,
      "outputs": []
    },
    {
      "cell_type": "code",
      "source": [
        "# let's check the category of features which is having null values.\n",
        "\n",
        "# Let's Define the target variables\n",
        "null_variables_bndf = ['poutcome','contact','education','job']\n",
        "# Let's Check categories in each target feature\n",
        "for var in null_variables_bndf:\n",
        "    print(bndf[var].value_counts())\n",
        "    print('--'*45)"
      ],
      "metadata": {
        "id": "YxaAIec0EzYd"
      },
      "execution_count": null,
      "outputs": []
    },
    {
      "cell_type": "code",
      "source": [
        "# Now Drop the variables which have null values more than 50%.\n",
        "\n",
        "bndf.drop(columns='poutcome', inplace=True)\n",
        "\n",
        "# Let's Replace the null values with the most frequent value in a variable\n",
        "bndf['contact'] = bndf['contact'].fillna(bndf['contact'].mode()[0])\n",
        "bndf['education']=bndf['education'].fillna(bndf['education'].mode()[0])\n",
        "bndf['job']=bndf['job'].fillna(bndf['job'].mode()[0])"
      ],
      "metadata": {
        "id": "vEt3cv9NFiRi"
      },
      "execution_count": null,
      "outputs": []
    },
    {
      "cell_type": "code",
      "source": [
        "# Let's Verify the null values are removed or not\n",
        "bndf.isna().sum()"
      ],
      "metadata": {
        "id": "HUk-ruezIPNU"
      },
      "execution_count": null,
      "outputs": []
    },
    {
      "cell_type": "markdown",
      "source": [
        "Now no null values are there in datframe."
      ],
      "metadata": {
        "id": "aVmQaEKhilDq"
      }
    },
    {
      "cell_type": "code",
      "source": [
        "# Let's check shape of null free dataframe\n",
        "bndf.shape"
      ],
      "metadata": {
        "id": "42v3hDZ4hc4G"
      },
      "execution_count": null,
      "outputs": []
    },
    {
      "cell_type": "markdown",
      "source": [
        "The variable 'poutput' now has been removed as it having null values more than 50 %."
      ],
      "metadata": {
        "id": "Vj2vaWlLiy9O"
      }
    },
    {
      "cell_type": "markdown",
      "source": [
        "**Handling Outliers**"
      ],
      "metadata": {
        "id": "rcfLleQPmR0E"
      }
    },
    {
      "cell_type": "code",
      "source": [
        "# Let's Check for outliers in numerical variables by use of boxplot\n",
        "from scipy.stats import norm\n",
        "\n",
        "# Let's Plot Box and Distribution plot using 'for' loop\n",
        "for var in num_var:\n",
        "    plt.figure(figsize=(10,4))\n",
        "    plt.subplot(1,2,1)\n",
        "    ax=sns.boxplot(data=bndf[var])\n",
        "    ax.set_title(f'{var}')\n",
        "    ax.set_ylabel(var)\n",
        "\n",
        "    plt.subplot(1,2,2)\n",
        "    ax=sns.distplot(bndf[var], fit=norm)\n",
        "    ax.set_title(f'skewness of the {var} : {bndf[var].skew()}')\n",
        "    ax.set_xlabel(var)\n",
        "    print('__'*45)\n",
        "    plt.show()"
      ],
      "metadata": {
        "id": "e3If-GOQnbwM"
      },
      "execution_count": null,
      "outputs": []
    },
    {
      "cell_type": "markdown",
      "source": [
        "The variables age, balance, duration, campaign, pdays, and previous in the dataset exhibit outliers.\n",
        "\n",
        "Due to a flat interquartile range, it is recommended to remove the columns 'pdays' and 'previous' from consideration.\n",
        "\n",
        "However, the variable 'day' does not contain any outliers and can be retained for further analysis."
      ],
      "metadata": {
        "id": "pnmzf-reRog4"
      }
    },
    {
      "cell_type": "code",
      "source": [
        "# Now we will Use Inter Quartile Range to remove outliers from numerical variables\n",
        "\n",
        "# Let's Define outliers for features but remove flat IQR for feature 'pdays' and 'previous'.\n",
        "out_var = ['age', 'balance', 'duration', 'campaign']\n",
        "\n",
        "# let's Cape dataset\n",
        "for i in out_var:\n",
        "    # Now  Findling for IQR\n",
        "    Q1 = bndf[i].quantile(0.25)\n",
        "    Q3 = bndf[i].quantile(0.75)\n",
        "    IQR = Q3-Q1\n",
        "\n",
        "    # let's Define upper and lower limits\n",
        "    lower_lim = bndf[i].quantile(0.25)-1.5*IQR\n",
        "    upper_lim = bndf[i].quantile(0.75)+1.5*IQR\n",
        "\n",
        "    # Let's Apply lower and upper limit to each variable\n",
        "    bndf.loc[(bndf[i] > upper_lim),i] = upper_lim\n",
        "    bndf.loc[(bndf[i] < lower_lim),i] = lower_lim"
      ],
      "metadata": {
        "id": "nDMpiIVAOLSh"
      },
      "execution_count": null,
      "outputs": []
    },
    {
      "cell_type": "code",
      "source": [
        "# By Using boxplot let's cross check outliers in features as it is removed by using IQR\n",
        "\n",
        "for var in out_var:\n",
        "    plt.figure(figsize=(10,4))\n",
        "    plt.subplot(1,2,1)\n",
        "    ax=sns.boxplot(data=bndf[var])\n",
        "    ax.set_title(f'{var}')\n",
        "    ax.set_ylabel(var)\n",
        "\n",
        "    plt.subplot(1,2,2)\n",
        "    ax=sns.distplot(bndf[var], fit=norm)\n",
        "    ax.set_title(f'skewness of {var} : {bndf[var].skew()}')\n",
        "    ax.set_xlabel(var)\n",
        "    print('__'*45)\n",
        "    plt.show()"
      ],
      "metadata": {
        "id": "VS1dHIryTXpf"
      },
      "execution_count": null,
      "outputs": []
    },
    {
      "cell_type": "markdown",
      "source": [
        "Yeah, Outliers are successfully removed from the dataset.\n",
        "\n",
        "**Observations :**\n",
        "\n",
        "\n",
        "This dataset does not contain any duplicate values.\n",
        "\n",
        "The features job, education, contact, and poutcome have unknown values present in the dataset, with occurrences of 288, 1857, 13020, and 36959, respectively. Since these unknown values are not defined, they are considered null and can be treated accordingly by removing them from the features during data processing.\n",
        "\n",
        "Furthermore, the features poutcome, contact, education, and job have null values, with proportions of 81.45%, 28.80%, 4.11%, and 0.64%, respectively.\n",
        "\n",
        "To address the null values in the features contact, education, and job, we replaced them with their respective modes, which are the most frequent values.\n",
        "\n",
        "As for features with more than 50% null values, they were eliminated from the dataset as they provided no useful information and negatively impacted model performance.\n",
        "\n",
        "To handle outliers in the dataset, we used the interquartile range method for the variables age, balance, duration, campaign, pdays, and previous. However, due to a flat interquartile range, it was decided to remove the columns pdays and previous from consideration.\n",
        "\n",
        "Finally, no outliers were found in the variable day."
      ],
      "metadata": {
        "id": "T2Q3quUiXKUm"
      }
    },
    {
      "cell_type": "markdown",
      "source": [
        "## ***4. Data Vizualization, Storytelling & Experimenting with charts : Understand the relationships between variables***"
      ],
      "metadata": {
        "id": "GF8Ens_Soomf"
      }
    },
    {
      "cell_type": "markdown",
      "source": [
        "**Univariate analysis**"
      ],
      "metadata": {
        "id": "0wOQAZs5pc--"
      }
    },
    {
      "cell_type": "code",
      "source": [
        "# Defining a variaable 'q' to autofit the number and size of plots\n",
        "q = int(len(bndf.columns))"
      ],
      "metadata": {
        "id": "7v_ESjsspbW7"
      },
      "execution_count": null,
      "outputs": []
    },
    {
      "cell_type": "code",
      "source": [
        "# Define a function to Note the percent count of each value in bar form\n",
        "def annote_percent(axes):\n",
        "    '''Takes axes as input and labels the percent count to each bar in a countplot'''\n",
        "    for w in plot.patches:\n",
        "        total = sum(w.get_height() for w in plot.patches)/100\n",
        "        percent = round((w.get_height()/total),2)\n",
        "        x = w.get_x() + w.get_width()/2\n",
        "        y = w.get_height()\n",
        "        plot.annotate(f'{percent}%', (x, y), ha='center', va='bottom')"
      ],
      "metadata": {
        "id": "IV_36PatiqHC"
      },
      "execution_count": null,
      "outputs": []
    },
    {
      "cell_type": "code",
      "source": [
        "# Let's Plot the countplots for each variable of the target_variables\n",
        "plt.figure(figsize=(18, q*4))\n",
        "for m, var in enumerate(bndf.columns):\n",
        "    plot = plt.subplot(q,1,m+1)\n",
        "    sns.countplot(x=bndf[var], hue = bndf['y']).margins(y=0.15)\n",
        "    plt.title(f'{var.title()}', weight='bold')\n",
        "    plt.tight_layout()\n",
        "    annote_percent(plot)"
      ],
      "metadata": {
        "id": "XXp6oIC_kHfs"
      },
      "execution_count": null,
      "outputs": []
    },
    {
      "cell_type": "markdown",
      "source": [
        "**Observations :**\n",
        "\n",
        "\n",
        "The average age of clients in this dataset falls between 25 and 60 years, but the majority of bank term deposits are made by clients between the ages of 30 and 36.\n",
        "\n",
        "Clients with blue-collar jobs are less likely to subscribe to bank term deposits (20.52%), whereas clients with managerial jobs are more likely to subscribe (2.88%).\n",
        "\n",
        "The majority of clients are married, and interestingly, married clients are both the most likely and the least likely to subscribe to term deposits.\n",
        "\n",
        "Clients who are more educated than primary education level are more likely to sign up for a term deposit.\n",
        "\n",
        "Most of the clients who subscribed to term deposits have no credit in default.\n",
        "\n",
        "Additionally, a significant number of clients who signed up for a term deposit do not have any housing loans.\n",
        "\n",
        "Among clients with a housing loan, there is a 51% chance that they will not subscribe to a term deposit.\n",
        "\n",
        "Furthermore, clients without any personal loans are more likely to subscribe to the term deposit.\n",
        "\n",
        "Conversely, if a client has a personal loan, there is a higher probability that they will not subscribe to a term deposit.\n",
        "\n",
        "Notably, the majority of clients who were contacted through cellular means have subscribed to term deposits.\n",
        "\n",
        "The percentage of clients subscribing to term deposits on a daily basis is less than one percent.\n",
        "\n",
        "During the months of May, June, July, August, and April, more than 1% of clients subscribed to the term deposit. However, in other months, the percentage of clients subscribing to the term deposit is less than 1%. May stands out as a particularly strong month with a subscriber rate more than double that of the other months, showing a difference of more than 2 percentage points.\n",
        "\n",
        "It is interesting to note that no clients have signed up for a term deposit if they have received more than three phone calls. The majority of clients who signed up were contacted less than three times.\n",
        "\n",
        "Overall, only 11.7% of the total clients in the dataset sign up for term deposits, indicating that there is an 88.3% likelihood that clients will not subscribe to term deposits."
      ],
      "metadata": {
        "id": "rR4sITmLm4Xx"
      }
    },
    {
      "cell_type": "markdown",
      "source": [
        "**Bivariate Analysis**"
      ],
      "metadata": {
        "id": "Qx2ieH0fTW78"
      }
    },
    {
      "cell_type": "code",
      "source": [
        "# Let's Plot a count plot to vizualize the number of customers according to their jobs and level of education by using group by operation\n",
        "\n",
        "# Let's sort the  Dataset having only subscribed Bank term deposit with job and education\n",
        "subscribed_bndf = bndf[bndf.y=='yes']\n",
        "subscribed_bndf2=subscribed_bndf.groupby(['job','education','y'])['y'].count()\n",
        "\n",
        "# Now Plot bar plot for subscribed Bank term deposit with job and education\n",
        "subscribed_bndf2.plot(kind=\"bar\",title = 'Number of clients who has subscribed for bank term deposit as per their education and job')"
      ],
      "metadata": {
        "id": "yWBk6pGsV1uY"
      },
      "execution_count": null,
      "outputs": []
    },
    {
      "cell_type": "markdown",
      "source": [
        "\n",
        "The majority of clients in management-related roles, holding a tertiary degree, opt for term deposits as their preferred investment choice.\n",
        "\n",
        "Following closely, customers with a secondary education exhibit the second-highest likelihood of subscribing to term deposits."
      ],
      "metadata": {
        "id": "0RoGlD6oan4N"
      }
    },
    {
      "cell_type": "code",
      "source": [
        "# Plotting box plot for Let's check the spread of duration in seconds for the target variable(yes or no) with the help of box plot\n",
        "plt.figure(figsize=(5,5))\n",
        "plot=plt.subplot(111)\n",
        "ax=sns.violinplot(x=bndf['y'], y = bndf['duration'])\n",
        "ax.set_title('duration v/s target variable(y)')\n",
        "annote_percent(plot)\n",
        "plt.show()"
      ],
      "metadata": {
        "id": "fwyo8z9uauhy"
      },
      "execution_count": null,
      "outputs": []
    },
    {
      "cell_type": "markdown",
      "source": [
        "Clients who spend more time on the phone are significantly more inclined to subscribe to term deposits.\n",
        "\n",
        "On average, it takes approximately 400 seconds for clients to convey their intent to subscribe and make a term deposit."
      ],
      "metadata": {
        "id": "471-s5sIcUHg"
      }
    },
    {
      "cell_type": "code",
      "source": [
        "# Let's vizualize the count of clients who has opted for a term deposit given their housing loan and personal loan, by using bar chart.\n",
        "\n",
        "# Sort Dataset ehich having only subscribed Bank term deposit with housing loan and personal loan\n",
        "bndf_loan_yes = bndf[bndf.y=='yes']\n",
        "bndf_loan_yes2= bndf_loan_yes.groupby(['loan','housing','y'])['y'].count().unstack()\n",
        "\n",
        "# Let's see subscribed Bank term deposit with housing loan and personal loan, by plotting bar chart.\n",
        "\n",
        "bndf_loan_yes2.plot(kind=\"barh\",title = 'No. of customers who subscribed bank term deposit as per their housing loan and personal loan', color=\"yellow\")\n"
      ],
      "metadata": {
        "id": "34p-hFENc406"
      },
      "execution_count": null,
      "outputs": []
    },
    {
      "cell_type": "markdown",
      "source": [
        "Being entirely debt-free significantly increases the likelihood of a customer signing up for a term deposit.\n",
        "\n",
        "On the contrary, customers who already have both types of loans are less likely to choose a term deposit."
      ],
      "metadata": {
        "id": "jYNCSRmUhzya"
      }
    },
    {
      "cell_type": "markdown",
      "source": [
        "**Multivariate Analysis**"
      ],
      "metadata": {
        "id": "0RbdmVpyiV5T"
      }
    },
    {
      "cell_type": "code",
      "source": [
        "# Let's see the heatmap of correlation matrix to determine the relationship between the different variables\n",
        "f, ax = plt.subplots(figsize = (10, 5))\n",
        "\n",
        "\n",
        "# Create the heatmap of the correlation matrix of 'bndf'\n",
        "sns.heatmap(bndf.corr(), ax=ax, annot=True, cmap='coolwarm', linewidths=0.75)\n",
        "plt.title('Correlation heatmap')\n",
        "plt.show()"
      ],
      "metadata": {
        "id": "hMb3OLvvjGld"
      },
      "execution_count": null,
      "outputs": []
    },
    {
      "cell_type": "markdown",
      "source": [
        "There have been found no strong correlation between any independent variables."
      ],
      "metadata": {
        "id": "MurgLvbKsjrB"
      }
    },
    {
      "cell_type": "code",
      "source": [
        "# Let's see the Pair Plot\n",
        "sns.pairplot(bndf, palette=\"husl\")\n",
        "plt.show()"
      ],
      "metadata": {
        "id": "c12KpGjjiP-q"
      },
      "execution_count": null,
      "outputs": []
    },
    {
      "cell_type": "markdown",
      "source": [
        "**Data Pre-processing**"
      ],
      "metadata": {
        "id": "T5z2E7l_uE1_"
      }
    },
    {
      "cell_type": "markdown",
      "source": [
        " Let's do Categorical Encoding"
      ],
      "metadata": {
        "id": "1ORVvBpiuWl8"
      }
    },
    {
      "cell_type": "code",
      "source": [
        "# Let's Check basic info of dataset\n",
        "bndf.info()"
      ],
      "metadata": {
        "id": "4t69EjJsul2q"
      },
      "execution_count": null,
      "outputs": []
    },
    {
      "cell_type": "code",
      "source": [
        "# Let's Address categorical variables from the dataset\n",
        "cat_variables = bndf.describe(include=['object']).columns\n",
        "print(f'Categorical variables are : {list(cat_variables)}')"
      ],
      "metadata": {
        "id": "KhMZxZVLzVWO"
      },
      "execution_count": null,
      "outputs": []
    },
    {
      "cell_type": "code",
      "source": [
        "# Let's check value count for each category of each categorical feature\n",
        "for var in cat_variables:\n",
        "    print(var)\n",
        "    print(bndf[var].value_counts())\n",
        "    print('__'*45)"
      ],
      "metadata": {
        "id": "k3GyAU7az8lk"
      },
      "execution_count": null,
      "outputs": []
    },
    {
      "cell_type": "markdown",
      "source": [
        "For the given categorical variables (marital, education, default, housing, loan, contact, and y), label encoding is suitable due to the presence of only a few distinct categories.\n",
        "\n",
        "However, for the categorical variables job and month, which have numerous categories, one-hot encoding should be employed to effectively represent the diverse range of options for these variables."
      ],
      "metadata": {
        "id": "yLm8ITbo2Rpu"
      }
    },
    {
      "cell_type": "code",
      "source": [
        "## Let's do label encoding\n",
        "\n",
        "# Let's Map the categorical variables which have limited categories\n",
        "bndf['marital'] = bndf['marital'].map({'single':0,'married':1,'divorced':2})\n",
        "bndf['education'] = bndf['education'].map({'secondary':0,'tertiary':1, 'primary':2})\n",
        "bndf['default'] = bndf['default'].map({'yes':1,'no':0})\n",
        "bndf['housing'] = bndf['housing'].map({'yes':1,'no':0})\n",
        "bndf['loan'] = bndf['loan'].map({'yes':1,'no':0})\n",
        "bndf['contact'] = bndf['contact'].map({'cellular':1,'telephone':0})\n",
        "bndf['y'] = bndf['y'].map({'yes':1,'no':0})"
      ],
      "metadata": {
        "id": "tbGKsmBb29JP"
      },
      "execution_count": null,
      "outputs": []
    },
    {
      "cell_type": "code",
      "source": [
        "## Let's do One hot encoding for variable 'job' and 'month'.\n",
        "bndf = pd.get_dummies(bndf, columns=['job', \"month\"], prefix=[\"job\", \"month\"], drop_first=True)"
      ],
      "metadata": {
        "id": "xr5VzPad4SCc"
      },
      "execution_count": null,
      "outputs": []
    },
    {
      "cell_type": "code",
      "source": [
        "# Let's Check the basic information of dataset after done of above feature encoding.\n",
        "bndf.info()"
      ],
      "metadata": {
        "id": "lPzedZ-24mvh"
      },
      "execution_count": null,
      "outputs": []
    },
    {
      "cell_type": "code",
      "source": [
        "# Let's take a look at our fresh Dataset\n",
        "pd.set_option('display.max_columns', None)\n",
        "bndf.head()"
      ],
      "metadata": {
        "id": "P4EyoE-H6I_u"
      },
      "execution_count": null,
      "outputs": []
    },
    {
      "cell_type": "markdown",
      "source": [
        "Let's Separate out the Dependant(Target) and Independant variables"
      ],
      "metadata": {
        "id": "Icq3848c-qkI"
      }
    },
    {
      "cell_type": "code",
      "source": [
        "\n",
        "# Let's Create the dataset with all dependent variables\n",
        "dependent_var = 'y'\n",
        "\n",
        "# Let's Create the dataset with all independent variables\n",
        "independent_var = list(set(bndf.columns.tolist()) - {dependent_var})\n",
        "\n",
        "# Now Create the data of independent variables\n",
        "X = bndf[independent_var].copy()\n",
        "# Now Create the data of dependent variable\n",
        "Y = bndf[dependent_var].copy()"
      ],
      "metadata": {
        "id": "c9vzy2Va-p4j"
      },
      "execution_count": null,
      "outputs": []
    },
    {
      "cell_type": "markdown",
      "source": [
        "Let's see for Feature Manipulation & Selection"
      ],
      "metadata": {
        "id": "7XSy1g8VB2P1"
      }
    },
    {
      "cell_type": "code",
      "source": [
        "# Let's Plot importannt features for better selection of it to avoid overfitting\n",
        "\n",
        "from sklearn.feature_selection import mutual_info_classif\n",
        "imp = mutual_info_classif(X,Y)\n",
        "feature_imp = pd.Series(imp, bndf.columns[0:len(bndf.columns[0:34])]).sort_values(ascending=True)\n",
        "plt.figure(figsize=(10,8))\n",
        "feature_imp.plot(kind='barh')\n",
        "plt.title(\"Important Features based on Mutual info classifier/information gain\")\n",
        "plt.xlabel('Importance')\n",
        "plt.ylabel('Features')\n",
        "plt.show()"
      ],
      "metadata": {
        "id": "qK5qYHclB04K"
      },
      "execution_count": null,
      "outputs": []
    },
    {
      "cell_type": "markdown",
      "source": [
        "The features are ranked in descending order of importance, and if any of them were deemed unimportant, they could have been removed. However, in this case, all the included features demonstrate significant importance, so there is no need for removal, and we are keeping all of them in the analysis."
      ],
      "metadata": {
        "id": "LOd5hAdHEu3j"
      }
    },
    {
      "cell_type": "markdown",
      "source": [
        "Let's Handle the Imbalanced Dataset"
      ],
      "metadata": {
        "id": "pCTqmlbGE99M"
      }
    },
    {
      "cell_type": "code",
      "source": [
        "# Let's vizualize the class imbalance of target feature by plotting bar graph.\n",
        "plt.figure(figsize=(5,5))\n",
        "plot=plt.subplot(111)\n",
        "sns.countplot(x=bndf['y'])\n",
        "plt.title('Class imbalance of target feature(y)')\n",
        "annote_percent(plot)\n",
        "plt.show()"
      ],
      "metadata": {
        "id": "Oqqt7WR8-pHQ"
      },
      "execution_count": null,
      "outputs": []
    },
    {
      "cell_type": "code",
      "source": [
        "# Let's Import model imblearn for our envirnoment\n",
        "!pip install imblearn"
      ],
      "metadata": {
        "id": "UrCcDFovGZ9K"
      },
      "execution_count": null,
      "outputs": []
    },
    {
      "cell_type": "code",
      "source": [
        "# Let's Use Synthetic Minority Oversampling Technique (SMOTE) for handling class imbalance\n",
        "\n",
        "from imblearn.over_sampling import SMOTE\n",
        "smote = SMOTE(random_state=0)\n",
        "\n",
        "# Now fit predictor and target variable\n",
        "X_smote, Y_smote = smote.fit_resample(X, Y)\n"
      ],
      "metadata": {
        "id": "AI26-_qsHbTj"
      },
      "execution_count": null,
      "outputs": []
    },
    {
      "cell_type": "code",
      "source": [
        "# Let's Plot the bar graph to vizualize the class imbalance of target feature\n",
        "plt.figure(figsize=(5,5))\n",
        "plot = plt.subplot(111)\n",
        "sns.countplot(x = Y_smote)\n",
        "plt.title('Plot of target feature after handling class imbalance')\n",
        "annote_percent(plot)\n",
        "plt.show()"
      ],
      "metadata": {
        "id": "BnL-INILH__T"
      },
      "execution_count": null,
      "outputs": []
    },
    {
      "cell_type": "markdown",
      "source": [
        "**Splitting of data into training and testing datasets**"
      ],
      "metadata": {
        "id": "x7XlfAntHaj-"
      }
    },
    {
      "cell_type": "code",
      "source": [
        "# Splitting the dataset into two sets i.e training set and test set\n",
        "from sklearn.model_selection import train_test_split, GridSearchCV\n",
        "X_train, X_test, Y_train, Y_test = train_test_split(X_smote, Y_smote, test_size=0.2, random_state=42)"
      ],
      "metadata": {
        "id": "lxJk5i0xpZ-e"
      },
      "execution_count": null,
      "outputs": []
    },
    {
      "cell_type": "code",
      "source": [
        "# Let's Check the shape of split data sets\n",
        "print(f'Shape of X_train : {X_train.shape}')\n",
        "print(f'Shape of X_test : {X_test.shape}')\n",
        "print(f'Shape of Y_train : {Y_train.shape}')\n",
        "print(f'Shape of Y_test : {Y_test.shape}')"
      ],
      "metadata": {
        "id": "dwmfubEPp4Si"
      },
      "execution_count": null,
      "outputs": []
    },
    {
      "cell_type": "code",
      "source": [
        "# Let's Check values of the splitted dataset\n",
        "X_train[0:3]"
      ],
      "metadata": {
        "id": "n3UtuNTxr3mU"
      },
      "execution_count": null,
      "outputs": []
    },
    {
      "cell_type": "code",
      "source": [
        "# Let's check values of splitted test dataset\n",
        "X_test[0:3]"
      ],
      "metadata": {
        "id": "0rTD2PoisKnc"
      },
      "execution_count": null,
      "outputs": []
    },
    {
      "cell_type": "code",
      "source": [
        "# Let's do data scalling\n",
        "\n",
        "# Transforming data\n",
        "from sklearn.preprocessing import MinMaxScaler\n",
        "MinMaxScaler = MinMaxScaler()\n",
        "X_train = MinMaxScaler.fit_transform(X_train)\n",
        "X_test = MinMaxScaler.transform(X_test)"
      ],
      "metadata": {
        "id": "Dka6HyHesUOF"
      },
      "execution_count": null,
      "outputs": []
    },
    {
      "cell_type": "markdown",
      "source": [
        "By employing MinMaxScaler to scale the dataset, we ensure that the shape of the original distribution is preserved, and the fundamental information embedded in the original data remains unchanged.\n",
        "\n",
        "This scaling technique allows us to normalize the features within a specified range, enabling more effective data processing and model training without altering the inherent information present in the dataset."
      ],
      "metadata": {
        "id": "kpozpv9atZxO"
      }
    },
    {
      "cell_type": "code",
      "source": [
        "# Let's Check values of splitted train dataset after normalisation\n",
        "X_train[0:5]"
      ],
      "metadata": {
        "id": "01BCme8qtf1y"
      },
      "execution_count": null,
      "outputs": []
    },
    {
      "cell_type": "code",
      "source": [
        "# Let's Check values of splitted test dataset after normalisation\n",
        "X_test[0:5]"
      ],
      "metadata": {
        "id": "1FuNO3WauIix"
      },
      "execution_count": null,
      "outputs": []
    },
    {
      "cell_type": "markdown",
      "source": [
        "\n",
        "A class imbalance is evident as we observe a significant difference between the number of clients who subscribed to term deposits (11.7%) and those who did not (88.3%). This discrepancy in class distribution raises concerns about the potential bias it may introduce in our analysis or model training, warranting appropriate measures to address the imbalance if necessary."
      ],
      "metadata": {
        "id": "ulfDo5gRGMzY"
      }
    },
    {
      "cell_type": "markdown",
      "source": [
        " **Model Implementation**"
      ],
      "metadata": {
        "id": "IzGfY3R0GYsi"
      }
    },
    {
      "cell_type": "code",
      "source": [
        "# Let's define a function which will fit classification algoritham, evaluate and visualise model with train test split data\n",
        "\n",
        "# Let's Import required evaluation metrics\n",
        "\n",
        "from sklearn.metrics import confusion_matrix\n",
        "from sklearn.metrics import accuracy_score\n",
        "from sklearn.metrics import precision_score\n",
        "from sklearn.metrics import recall_score\n",
        "from sklearn.metrics import f1_score\n",
        "from sklearn.metrics import roc_auc_score\n",
        "from sklearn.metrics import roc_curve\n",
        "from sklearn.metrics import auc\n",
        "\n",
        "\n",
        "\n",
        "# Let's defining the function\n",
        "# class_mod= Classificatin_model\n",
        "def class_mod(X_train, X_test, Y_train, Y_test, clf):\n",
        "    \"\"\"\n",
        "    This function will- fit the ML algorithm on the training set, evaluate the model, and visualise evaluation metrics.\n",
        "    \"\"\"\n",
        "    ## Let's fit the model on training dataset\n",
        "    Model=clf.fit(X_train, Y_train)\n",
        "    print(Model)\n",
        "    print('**'*40)\n",
        "\n",
        "    ## Let's make the predictions\n",
        "    Y_train_pred = Model.predict(X_train)\n",
        "    Y_test_pred = Model.predict(X_test)\n",
        "\n",
        "    ## Now evaluate the model\n",
        "    print('This is the training set evaluation result :\\n')\n",
        "    # Let's evaluate the training set using confusion matrix\n",
        "    CM_train = confusion_matrix(Y_train, Y_train_pred)\n",
        "    Accuracy_train = accuracy_score(Y_train, Y_train_pred)\n",
        "    Precision_train = precision_score(Y_train, Y_train_pred)\n",
        "    Recall_train = recall_score(Y_train, Y_train_pred)\n",
        "    F1_train = f1_score(Y_train, Y_train_pred)\n",
        "    Roc_auc_score_train=roc_auc_score(Y_train, Y_train_pred)\n",
        "    print(\"Confusion Matrix: \\n\", CM_train)\n",
        "    print(\"Accuracy: \", Accuracy_train)\n",
        "    print(\"Precision: \", Precision_train)\n",
        "    print(\"Recall: \", Recall_train)\n",
        "    print(\"F1 Score: \", F1_train)\n",
        "    print(\"roc_auc_score: \", Roc_auc_score_train)\n",
        "    print('\\n-*****************************-\\n')\n",
        "    print('This is the training set evaluation result :\\n')\n",
        "    CM_test = confusion_matrix(Y_test, Y_test_pred)\n",
        "    Accuracy_test = accuracy_score(Y_test, Y_test_pred)\n",
        "    Precision_test = precision_score(Y_test, Y_test_pred)\n",
        "    Recall_test = recall_score(Y_test, Y_test_pred)\n",
        "    F1_test = f1_score(Y_test, Y_test_pred)\n",
        "    Roc_auc_score_test=roc_auc_score(Y_test, Y_test_pred)\n",
        "    print(\"Confusion Matrix: \\n\", CM_test)\n",
        "    print(\"Accuracy: \", Accuracy_test)\n",
        "    print(\"Precision: \", Precision_test)\n",
        "    print(\"Recall: \", Recall_test)\n",
        "    print(\"F1 Score: \", F1_test)\n",
        "    print(\"roc_auc_score: \", Roc_auc_score_test)\n",
        "    print('**'*40)\n",
        "\n",
        "    ## Now visualizes the evaluation metrics\n",
        "    fig,axes = plt.subplots(nrows=2, ncols=2)\n",
        "    ax1 = sns.heatmap(CM_train, annot=True, ax=axes[0,0], fmt='d')\n",
        "    ax1.set_title('Confusion Matrix of results for training dataset')\n",
        "    ax1.set_ylabel('True value label')\n",
        "    ax1.set_xlabel('Predicted value label')\n",
        "    ax2 = sns.heatmap(CM_test, annot=True, ax=axes[0,1], fmt='d')\n",
        "    ax2.set_title('Confusion Matrix of results for test dataset')\n",
        "    ax2.set_ylabel('True value label')\n",
        "    ax2.set_xlabel('Predicted value label')\n",
        "    ax3 = sns.barplot(x=['Accuracy', 'Precision', 'Recall', 'F1','roc_auc_score'], y=[Accuracy_train, Precision_train, Recall_train, F1_train, Roc_auc_score_train], ax=axes[1,0])\n",
        "    ax3.set_title('Evaluation Metrics result for training dataset')\n",
        "    ax3.tick_params(axis='x', rotation=90)\n",
        "    ax4 = sns.barplot(x=['Accuracy', 'Precision', 'Recall', 'F1','roc_auc_score'], y=[Accuracy_test, Precision_test, Recall_test, F1_test, Roc_auc_score_test], ax=axes[1,1])\n",
        "    ax4.set_title('Evaluation Metrics result for test dataset')\n",
        "    ax4.tick_params(axis='x', rotation=90)\n",
        "    plt.tight_layout()\n",
        "    plt.show()\n",
        "    print('**'*40)\n",
        "\n",
        "    return {'model': Model, 'y_train_pred': Y_train_pred, 'y_test_pred': Y_test_pred, 'cm_test': CM_test, 'accuracy_test': Accuracy_test,\n",
        "            'precision_test': Precision_test, 'recall_test': Recall_test, 'f1_test': F1_test, 'roc_auc_score_test': Roc_auc_score_test}\n"
      ],
      "metadata": {
        "id": "fXLJiaPkygt4"
      },
      "execution_count": null,
      "outputs": []
    },
    {
      "cell_type": "code",
      "source": [
        "# Let's define a function which will fit the classification algoritham using GridSearchCV, evaluate and visualise model\n",
        "\n",
        "# Let's Import necessary dependancy parameters\n",
        "\n",
        "from sklearn.metrics import confusion_matrix\n",
        "from sklearn.metrics import accuracy_score\n",
        "from sklearn.metrics import precision_score\n",
        "from sklearn.metrics import recall_score\n",
        "from sklearn.metrics import f1_score\n",
        "from sklearn.metrics import roc_auc_score\n",
        "from sklearn.metrics import roc_curve\n",
        "from sklearn.metrics import auc\n",
        "\n",
        "from sklearn.model_selection import GridSearchCV\n",
        "\n",
        "# Now define the function as Class_CV_model for classification_CV_model\n",
        "def Class_CV_model(X_train, X_test, Y_train, Y_test, Clf, Param_grid):\n",
        "    \"\"\"\n",
        "    The function will fit the algorithm using GridSearchCV on the training set, then evaluate the model, and visualise evaluation metrics.\n",
        "    \"\"\"\n",
        "    ## Now Fit the model for training dataset\n",
        "    classifier = Clf\n",
        "    Model = GridSearchCV(classifier, Param_grid, verbose=1, scoring='accuracy', cv=3, n_jobs=-1)\n",
        "    Model.fit(X_train, Y_train)\n",
        "    print(Model)\n",
        "    print('**'*40)\n",
        "\n",
        "    # Now Print the best parameters and score\n",
        "    print(\"Best parameters:\", Model.best_params_)\n",
        "    print(\"Best score:\", Model.best_score_)\n",
        "    print('**'*40)\n",
        "\n",
        "    ## Now Make the predictions\n",
        "    Y_train_pred = Model.predict(X_train)\n",
        "    Y_test_pred = Model.predict(X_test)\n",
        "\n",
        "    ## Let's go Evaluate the model\n",
        "    print('Training set evaluation result are as folllows :\\n')\n",
        "    CM_train = confusion_matrix(Y_train, Y_train_pred)\n",
        "    Accuracy_train = Accuracy_score(Y_train, Y_train_pred)\n",
        "    Precision_train = Precision_score(Y_train, Y_train_pred)\n",
        "    Recall_train = recall_score(Y_train, Y_train_pred)\n",
        "    F1_train = f1_score(Y_train, Y_train_pred)\n",
        "    Roc_auc_score_train = roc_auc_score(Y_train, Y_train_pred)\n",
        "    print(\"Confusion Matrix: \\n\", CM_train)\n",
        "    print(\"Accuracy: \", Accuracy_train)\n",
        "    print(\"Precision: \", Precision_train)\n",
        "    print(\"Recall: \", Recall_train)\n",
        "    print(\"F1 Score: \", F1_train)\n",
        "    print(\"roc_auc_score: \", Roc_auc_score_train)\n",
        "    print('\\n-**********************************-\\n')\n",
        "    print('Test set evaluation result are as follows :\\n')\n",
        "    CM_test = confusion_matrix(Y_test, Y_test_pred)\n",
        "    Accuracy_test = accuracy_score(Y_test, Y_test_pred)\n",
        "    Precision_test = precision_score(Y_test, Y_test_pred)\n",
        "    Recall_test = recall_score(Y_test, Y_test_pred)\n",
        "    F1_test = f1_score(Y_test, Y_test_pred)\n",
        "    Roc_auc_score_test = roc_auc_score(Y_test, Y_test_pred)\n",
        "    print(\"Confusion Matrix: \\n\", CM_test)\n",
        "    print(\"Accuracy: \", Accuracy_test)\n",
        "    print(\"Precision: \", Precision_test)\n",
        "    print(\"Recall: \", Recall_test)\n",
        "    print(\"F1 Score: \", F1_test)\n",
        "    print(\"roc_auc_score: \", Roc_auc_score_test)\n",
        "    print('**'*40)\n",
        "\n",
        "    ## Now Visualizes the evaluation metrics\n",
        "    fig,axes = plt.subplots(nrows=2, ncols=2)\n",
        "    ax1 = sns.heatmap(CM_train, annot=True, ax=axes[0,0], fmt='d')\n",
        "    ax1.set_title('Confusion Matrix for training set is as follows')\n",
        "    ax1.set_ylabel('True value label')\n",
        "    ax1.set_xlabel('Predicted value label')\n",
        "    ax2 = sns.heatmap(CM_test, annot=True, ax=axes[0,1], fmt='d')\n",
        "    ax2.set_title('Confusion Matrix for test set is as follows')\n",
        "    ax2.set_ylabel('True value label')\n",
        "    ax2.set_xlabel('Predicted value label')\n",
        "    ax3 = sns.barplot(x=['Accuracy', 'Precision', 'Recall', 'F1','roc_auc_score'], y=[Accuracy_train, Precision_train, Recall_train, F1_train, Roc_auc_score_train], ax=axes[1,0])\n",
        "    ax3.set_title('Evaluation Metrics for training set is as follows')\n",
        "    ax3.tick_params(axis='x', rotation=90)\n",
        "    ax4 = sns.barplot(x=['Accuracy', 'Precision', 'Recall', 'F1','roc_auc_score'], y=[Accuracy_test, Precision_test, Recall_test, F1_test, Roc_auc_score_test], ax=axes[1,1])\n",
        "    ax4.set_title('Evaluation Metrics for test set is as follows')\n",
        "    ax4.tick_params(axis='x', rotation=90)\n",
        "    plt.tight_layout()\n",
        "    plt.show()\n",
        "    print('**'*40)\n",
        "\n",
        "    return {'model': Model, 'y_train_pred': Y_train_pred, 'y_test_pred': Y_test_pred, 'cm_test': CM_test, 'accuracy_test': Accuracy_test,\n",
        "            'precision_test': Precision_test, 'recall_test': Recall_test, 'f1_test': F1_test, 'roc_auc_score_test': Roc_auc_score_test}\n"
      ],
      "metadata": {
        "id": "dv4pb6Mz-NXJ"
      },
      "execution_count": null,
      "outputs": []
    },
    {
      "cell_type": "code",
      "source": [
        "# Now Define the function to plot ROC curve\n",
        "def Plot_roc_curve(Y_test, Y_pred):\n",
        "    \"\"\"\n",
        "    Let's plots the roc curve\n",
        "    \"\"\"\n",
        "    # Now generate a list of false and true positive rates\n",
        "    Fpr, Tpr, Thresholds = Roc_curve(Y_test, Y_pred)\n",
        "    # Now calculate the area under the curve (AUC)\n",
        "    Roc_auc = Auc(Fpr, Tpr)\n",
        "    # Now plotting the ROC curve\n",
        "    plt.figure(figsize=(5,5))\n",
        "    plt.plot(Fpr, Tpr, label='See the ROC curve (AUC = %0.4f)' % Roc_auc)\n",
        "    plt.plot([0, 1], [0, 1],'r--')\n",
        "    # Labels to the graph\n",
        "    plt.xlabel('False +ve Rate (Precision)')\n",
        "    plt.ylabel('True +ve Rate (Recall)')\n",
        "    plt.title('This is Receiver Operating Characteristic Curve')\n",
        "    plt.legend(loc=\"lower right\")\n",
        "    plt.show()"
      ],
      "metadata": {
        "id": "54C_ELkTdUzS"
      },
      "execution_count": null,
      "outputs": []
    },
    {
      "cell_type": "markdown",
      "source": [
        "**[1] Logistic Regression- Implementation**"
      ],
      "metadata": {
        "id": "BRXev9BYg8QW"
      }
    },
    {
      "cell_type": "markdown",
      "source": [
        "##### 3. Will the gained insights help creating a positive business impact?\n",
        "Are there any insights that lead to negative growth? Justify with specific reason."
      ],
      "metadata": {
        "id": "448CDAPjqfQr"
      }
    },
    {
      "cell_type": "markdown",
      "source": [
        "Answer Here"
      ],
      "metadata": {
        "id": "3cspy4FjqxJW"
      }
    },
    {
      "cell_type": "markdown",
      "source": [
        "#### Chart - 2"
      ],
      "metadata": {
        "id": "KSlN3yHqYklG"
      }
    },
    {
      "cell_type": "code",
      "source": [
        "# Chart - 2 visualization code"
      ],
      "metadata": {
        "id": "R4YgtaqtYklH"
      },
      "execution_count": null,
      "outputs": []
    },
    {
      "cell_type": "markdown",
      "source": [
        "##### 1. Why did you pick the specific chart?"
      ],
      "metadata": {
        "id": "t6dVpIINYklI"
      }
    },
    {
      "cell_type": "markdown",
      "source": [
        "Answer Here."
      ],
      "metadata": {
        "id": "5aaW0BYyYklI"
      }
    },
    {
      "cell_type": "markdown",
      "source": [
        "##### 2. What is/are the insight(s) found from the chart?"
      ],
      "metadata": {
        "id": "ijmpgYnKYklI"
      }
    },
    {
      "cell_type": "markdown",
      "source": [
        "Answer Here"
      ],
      "metadata": {
        "id": "PSx9atu2YklI"
      }
    },
    {
      "cell_type": "markdown",
      "source": [
        "##### 3. Will the gained insights help creating a positive business impact?\n",
        "Are there any insights that lead to negative growth? Justify with specific reason."
      ],
      "metadata": {
        "id": "-JiQyfWJYklI"
      }
    },
    {
      "cell_type": "markdown",
      "source": [
        "Answer Here"
      ],
      "metadata": {
        "id": "BcBbebzrYklV"
      }
    },
    {
      "cell_type": "markdown",
      "source": [
        "#### Chart - 3"
      ],
      "metadata": {
        "id": "EM7whBJCYoAo"
      }
    },
    {
      "cell_type": "code",
      "source": [
        "# Chart - 3 visualization code"
      ],
      "metadata": {
        "id": "t6GMdE67YoAp"
      },
      "execution_count": null,
      "outputs": []
    },
    {
      "cell_type": "markdown",
      "source": [
        "##### 1. Why did you pick the specific chart?"
      ],
      "metadata": {
        "id": "fge-S5ZAYoAp"
      }
    },
    {
      "cell_type": "markdown",
      "source": [
        "Answer Here."
      ],
      "metadata": {
        "id": "5dBItgRVYoAp"
      }
    },
    {
      "cell_type": "markdown",
      "source": [
        "##### 2. What is/are the insight(s) found from the chart?"
      ],
      "metadata": {
        "id": "85gYPyotYoAp"
      }
    },
    {
      "cell_type": "markdown",
      "source": [
        "Answer Here"
      ],
      "metadata": {
        "id": "4jstXR6OYoAp"
      }
    },
    {
      "cell_type": "markdown",
      "source": [
        "##### 3. Will the gained insights help creating a positive business impact?\n",
        "Are there any insights that lead to negative growth? Justify with specific reason."
      ],
      "metadata": {
        "id": "RoGjAbkUYoAp"
      }
    },
    {
      "cell_type": "markdown",
      "source": [
        "Answer Here"
      ],
      "metadata": {
        "id": "zfJ8IqMcYoAp"
      }
    },
    {
      "cell_type": "markdown",
      "source": [
        "#### Chart - 4"
      ],
      "metadata": {
        "id": "4Of9eVA-YrdM"
      }
    },
    {
      "cell_type": "code",
      "source": [
        "# Chart - 4 visualization code"
      ],
      "metadata": {
        "id": "irlUoxc8YrdO"
      },
      "execution_count": null,
      "outputs": []
    },
    {
      "cell_type": "markdown",
      "source": [
        "##### 1. Why did you pick the specific chart?"
      ],
      "metadata": {
        "id": "iky9q4vBYrdO"
      }
    },
    {
      "cell_type": "markdown",
      "source": [
        "Answer Here."
      ],
      "metadata": {
        "id": "aJRCwT6DYrdO"
      }
    },
    {
      "cell_type": "markdown",
      "source": [
        "##### 2. What is/are the insight(s) found from the chart?"
      ],
      "metadata": {
        "id": "F6T5p64dYrdO"
      }
    },
    {
      "cell_type": "markdown",
      "source": [
        "Answer Here"
      ],
      "metadata": {
        "id": "Xx8WAJvtYrdO"
      }
    },
    {
      "cell_type": "markdown",
      "source": [
        "##### 3. Will the gained insights help creating a positive business impact?\n",
        "Are there any insights that lead to negative growth? Justify with specific reason."
      ],
      "metadata": {
        "id": "y-Ehk30pYrdP"
      }
    },
    {
      "cell_type": "markdown",
      "source": [
        "Answer Here"
      ],
      "metadata": {
        "id": "jLNxxz7MYrdP"
      }
    },
    {
      "cell_type": "markdown",
      "source": [
        "#### Chart - 5"
      ],
      "metadata": {
        "id": "bamQiAODYuh1"
      }
    },
    {
      "cell_type": "code",
      "source": [
        "# Chart - 5 visualization code"
      ],
      "metadata": {
        "id": "TIJwrbroYuh3"
      },
      "execution_count": null,
      "outputs": []
    },
    {
      "cell_type": "markdown",
      "source": [
        "##### 1. Why did you pick the specific chart?"
      ],
      "metadata": {
        "id": "QHF8YVU7Yuh3"
      }
    },
    {
      "cell_type": "markdown",
      "source": [
        "Answer Here."
      ],
      "metadata": {
        "id": "dcxuIMRPYuh3"
      }
    },
    {
      "cell_type": "markdown",
      "source": [
        "##### 2. What is/are the insight(s) found from the chart?"
      ],
      "metadata": {
        "id": "GwzvFGzlYuh3"
      }
    },
    {
      "cell_type": "markdown",
      "source": [
        "Answer Here"
      ],
      "metadata": {
        "id": "uyqkiB8YYuh3"
      }
    },
    {
      "cell_type": "markdown",
      "source": [
        "##### 3. Will the gained insights help creating a positive business impact?\n",
        "Are there any insights that lead to negative growth? Justify with specific reason."
      ],
      "metadata": {
        "id": "qYpmQ266Yuh3"
      }
    },
    {
      "cell_type": "markdown",
      "source": [
        "Answer Here"
      ],
      "metadata": {
        "id": "_WtzZ_hCYuh4"
      }
    },
    {
      "cell_type": "markdown",
      "source": [
        "#### Chart - 6"
      ],
      "metadata": {
        "id": "OH-pJp9IphqM"
      }
    },
    {
      "cell_type": "code",
      "source": [
        "# Chart - 6 visualization code"
      ],
      "metadata": {
        "id": "kuRf4wtuphqN"
      },
      "execution_count": null,
      "outputs": []
    },
    {
      "cell_type": "markdown",
      "source": [
        "##### 1. Why did you pick the specific chart?"
      ],
      "metadata": {
        "id": "bbFf2-_FphqN"
      }
    },
    {
      "cell_type": "markdown",
      "source": [
        "Answer Here."
      ],
      "metadata": {
        "id": "loh7H2nzphqN"
      }
    },
    {
      "cell_type": "markdown",
      "source": [
        "##### 2. What is/are the insight(s) found from the chart?"
      ],
      "metadata": {
        "id": "_ouA3fa0phqN"
      }
    },
    {
      "cell_type": "markdown",
      "source": [
        "Answer Here"
      ],
      "metadata": {
        "id": "VECbqPI7phqN"
      }
    },
    {
      "cell_type": "markdown",
      "source": [
        "##### 3. Will the gained insights help creating a positive business impact?\n",
        "Are there any insights that lead to negative growth? Justify with specific reason."
      ],
      "metadata": {
        "id": "Seke61FWphqN"
      }
    },
    {
      "cell_type": "markdown",
      "source": [
        "Answer Here"
      ],
      "metadata": {
        "id": "DW4_bGpfphqN"
      }
    },
    {
      "cell_type": "markdown",
      "source": [
        "#### Chart - 7"
      ],
      "metadata": {
        "id": "PIIx-8_IphqN"
      }
    },
    {
      "cell_type": "code",
      "source": [
        "# Chart - 7 visualization code"
      ],
      "metadata": {
        "id": "lqAIGUfyphqO"
      },
      "execution_count": null,
      "outputs": []
    },
    {
      "cell_type": "markdown",
      "source": [
        "##### 1. Why did you pick the specific chart?"
      ],
      "metadata": {
        "id": "t27r6nlMphqO"
      }
    },
    {
      "cell_type": "markdown",
      "source": [
        "Answer Here."
      ],
      "metadata": {
        "id": "iv6ro40sphqO"
      }
    },
    {
      "cell_type": "markdown",
      "source": [
        "##### 2. What is/are the insight(s) found from the chart?"
      ],
      "metadata": {
        "id": "r2jJGEOYphqO"
      }
    },
    {
      "cell_type": "markdown",
      "source": [
        "Answer Here"
      ],
      "metadata": {
        "id": "Po6ZPi4hphqO"
      }
    },
    {
      "cell_type": "markdown",
      "source": [
        "##### 3. Will the gained insights help creating a positive business impact?\n",
        "Are there any insights that lead to negative growth? Justify with specific reason."
      ],
      "metadata": {
        "id": "b0JNsNcRphqO"
      }
    },
    {
      "cell_type": "markdown",
      "source": [
        "Answer Here"
      ],
      "metadata": {
        "id": "xvSq8iUTphqO"
      }
    },
    {
      "cell_type": "markdown",
      "source": [
        "#### Chart - 8"
      ],
      "metadata": {
        "id": "BZR9WyysphqO"
      }
    },
    {
      "cell_type": "code",
      "source": [
        "# Chart - 8 visualization code"
      ],
      "metadata": {
        "id": "TdPTWpAVphqO"
      },
      "execution_count": null,
      "outputs": []
    },
    {
      "cell_type": "markdown",
      "source": [
        "##### 1. Why did you pick the specific chart?"
      ],
      "metadata": {
        "id": "jj7wYXLtphqO"
      }
    },
    {
      "cell_type": "markdown",
      "source": [
        "Answer Here."
      ],
      "metadata": {
        "id": "Ob8u6rCTphqO"
      }
    },
    {
      "cell_type": "markdown",
      "source": [
        "##### 2. What is/are the insight(s) found from the chart?"
      ],
      "metadata": {
        "id": "eZrbJ2SmphqO"
      }
    },
    {
      "cell_type": "markdown",
      "source": [
        "Answer Here"
      ],
      "metadata": {
        "id": "mZtgC_hjphqO"
      }
    },
    {
      "cell_type": "markdown",
      "source": [
        "##### 3. Will the gained insights help creating a positive business impact?\n",
        "Are there any insights that lead to negative growth? Justify with specific reason."
      ],
      "metadata": {
        "id": "rFu4xreNphqO"
      }
    },
    {
      "cell_type": "markdown",
      "source": [
        "Answer Here"
      ],
      "metadata": {
        "id": "ey_0qi68phqO"
      }
    },
    {
      "cell_type": "markdown",
      "source": [
        "#### Chart - 9"
      ],
      "metadata": {
        "id": "YJ55k-q6phqO"
      }
    },
    {
      "cell_type": "code",
      "source": [
        "# Chart - 9 visualization code"
      ],
      "metadata": {
        "id": "B2aS4O1ophqO"
      },
      "execution_count": null,
      "outputs": []
    },
    {
      "cell_type": "markdown",
      "source": [
        "##### 1. Why did you pick the specific chart?"
      ],
      "metadata": {
        "id": "gCFgpxoyphqP"
      }
    },
    {
      "cell_type": "markdown",
      "source": [
        "Answer Here."
      ],
      "metadata": {
        "id": "TVxDimi2phqP"
      }
    },
    {
      "cell_type": "markdown",
      "source": [
        "##### 2. What is/are the insight(s) found from the chart?"
      ],
      "metadata": {
        "id": "OVtJsKN_phqQ"
      }
    },
    {
      "cell_type": "markdown",
      "source": [
        "Answer Here"
      ],
      "metadata": {
        "id": "ngGi97qjphqQ"
      }
    },
    {
      "cell_type": "markdown",
      "source": [
        "##### 3. Will the gained insights help creating a positive business impact?\n",
        "Are there any insights that lead to negative growth? Justify with specific reason."
      ],
      "metadata": {
        "id": "lssrdh5qphqQ"
      }
    },
    {
      "cell_type": "markdown",
      "source": [
        "Answer Here"
      ],
      "metadata": {
        "id": "tBpY5ekJphqQ"
      }
    },
    {
      "cell_type": "markdown",
      "source": [
        "#### Chart - 10"
      ],
      "metadata": {
        "id": "U2RJ9gkRphqQ"
      }
    },
    {
      "cell_type": "code",
      "source": [
        "# Chart - 10 visualization code"
      ],
      "metadata": {
        "id": "GM7a4YP4phqQ"
      },
      "execution_count": null,
      "outputs": []
    },
    {
      "cell_type": "markdown",
      "source": [
        "##### 1. Why did you pick the specific chart?"
      ],
      "metadata": {
        "id": "1M8mcRywphqQ"
      }
    },
    {
      "cell_type": "markdown",
      "source": [
        "Answer Here."
      ],
      "metadata": {
        "id": "8agQvks0phqQ"
      }
    },
    {
      "cell_type": "markdown",
      "source": [
        "##### 2. What is/are the insight(s) found from the chart?"
      ],
      "metadata": {
        "id": "tgIPom80phqQ"
      }
    },
    {
      "cell_type": "markdown",
      "source": [
        "Answer Here"
      ],
      "metadata": {
        "id": "Qp13pnNzphqQ"
      }
    },
    {
      "cell_type": "markdown",
      "source": [
        "##### 3. Will the gained insights help creating a positive business impact?\n",
        "Are there any insights that lead to negative growth? Justify with specific reason."
      ],
      "metadata": {
        "id": "JMzcOPDDphqR"
      }
    },
    {
      "cell_type": "markdown",
      "source": [
        "Answer Here"
      ],
      "metadata": {
        "id": "R4Ka1PC2phqR"
      }
    },
    {
      "cell_type": "markdown",
      "source": [
        "#### Chart - 11"
      ],
      "metadata": {
        "id": "x-EpHcCOp1ci"
      }
    },
    {
      "cell_type": "code",
      "source": [
        "# Chart - 11 visualization code"
      ],
      "metadata": {
        "id": "mAQTIvtqp1cj"
      },
      "execution_count": null,
      "outputs": []
    },
    {
      "cell_type": "markdown",
      "source": [
        "##### 1. Why did you pick the specific chart?"
      ],
      "metadata": {
        "id": "X_VqEhTip1ck"
      }
    },
    {
      "cell_type": "markdown",
      "source": [
        "Answer Here."
      ],
      "metadata": {
        "id": "-vsMzt_np1ck"
      }
    },
    {
      "cell_type": "markdown",
      "source": [
        "##### 2. What is/are the insight(s) found from the chart?"
      ],
      "metadata": {
        "id": "8zGJKyg5p1ck"
      }
    },
    {
      "cell_type": "markdown",
      "source": [
        "Answer Here"
      ],
      "metadata": {
        "id": "ZYdMsrqVp1ck"
      }
    },
    {
      "cell_type": "markdown",
      "source": [
        "##### 3. Will the gained insights help creating a positive business impact?\n",
        "Are there any insights that lead to negative growth? Justify with specific reason."
      ],
      "metadata": {
        "id": "PVzmfK_Ep1ck"
      }
    },
    {
      "cell_type": "markdown",
      "source": [
        "Answer Here"
      ],
      "metadata": {
        "id": "druuKYZpp1ck"
      }
    },
    {
      "cell_type": "markdown",
      "source": [
        "#### Chart - 12"
      ],
      "metadata": {
        "id": "n3dbpmDWp1ck"
      }
    },
    {
      "cell_type": "code",
      "source": [
        "# Chart - 12 visualization code"
      ],
      "metadata": {
        "id": "bwevp1tKp1ck"
      },
      "execution_count": null,
      "outputs": []
    },
    {
      "cell_type": "markdown",
      "source": [
        "##### 1. Why did you pick the specific chart?"
      ],
      "metadata": {
        "id": "ylSl6qgtp1ck"
      }
    },
    {
      "cell_type": "markdown",
      "source": [
        "Answer Here."
      ],
      "metadata": {
        "id": "m2xqNkiQp1ck"
      }
    },
    {
      "cell_type": "markdown",
      "source": [
        "##### 2. What is/are the insight(s) found from the chart?"
      ],
      "metadata": {
        "id": "ZWILFDl5p1ck"
      }
    },
    {
      "cell_type": "markdown",
      "source": [
        "Answer Here"
      ],
      "metadata": {
        "id": "x-lUsV2mp1ck"
      }
    },
    {
      "cell_type": "markdown",
      "source": [
        "##### 3. Will the gained insights help creating a positive business impact?\n",
        "Are there any insights that lead to negative growth? Justify with specific reason."
      ],
      "metadata": {
        "id": "M7G43BXep1ck"
      }
    },
    {
      "cell_type": "markdown",
      "source": [
        "Answer Here"
      ],
      "metadata": {
        "id": "5wwDJXsLp1cl"
      }
    },
    {
      "cell_type": "markdown",
      "source": [
        "#### Chart - 13"
      ],
      "metadata": {
        "id": "Ag9LCva-p1cl"
      }
    },
    {
      "cell_type": "code",
      "source": [
        "# Chart - 13 visualization code"
      ],
      "metadata": {
        "id": "EUfxeq9-p1cl"
      },
      "execution_count": null,
      "outputs": []
    },
    {
      "cell_type": "markdown",
      "source": [
        "##### 1. Why did you pick the specific chart?"
      ],
      "metadata": {
        "id": "E6MkPsBcp1cl"
      }
    },
    {
      "cell_type": "markdown",
      "source": [
        "Answer Here."
      ],
      "metadata": {
        "id": "V22bRsFWp1cl"
      }
    },
    {
      "cell_type": "markdown",
      "source": [
        "##### 2. What is/are the insight(s) found from the chart?"
      ],
      "metadata": {
        "id": "2cELzS2fp1cl"
      }
    },
    {
      "cell_type": "markdown",
      "source": [
        "Answer Here"
      ],
      "metadata": {
        "id": "ozQPc2_Ip1cl"
      }
    },
    {
      "cell_type": "markdown",
      "source": [
        "##### 3. Will the gained insights help creating a positive business impact?\n",
        "Are there any insights that lead to negative growth? Justify with specific reason."
      ],
      "metadata": {
        "id": "3MPXvC8up1cl"
      }
    },
    {
      "cell_type": "markdown",
      "source": [
        "Answer Here"
      ],
      "metadata": {
        "id": "GL8l1tdLp1cl"
      }
    },
    {
      "cell_type": "markdown",
      "source": [
        "#### Chart - 14 - Correlation Heatmap"
      ],
      "metadata": {
        "id": "NC_X3p0fY2L0"
      }
    },
    {
      "cell_type": "code",
      "source": [
        "# Correlation Heatmap visualization code"
      ],
      "metadata": {
        "id": "xyC9zolEZNRQ"
      },
      "execution_count": null,
      "outputs": []
    },
    {
      "cell_type": "markdown",
      "source": [
        "##### 1. Why did you pick the specific chart?"
      ],
      "metadata": {
        "id": "UV0SzAkaZNRQ"
      }
    },
    {
      "cell_type": "markdown",
      "source": [
        "Answer Here."
      ],
      "metadata": {
        "id": "DVPuT8LYZNRQ"
      }
    },
    {
      "cell_type": "markdown",
      "source": [
        "##### 2. What is/are the insight(s) found from the chart?"
      ],
      "metadata": {
        "id": "YPEH6qLeZNRQ"
      }
    },
    {
      "cell_type": "markdown",
      "source": [
        "Answer Here"
      ],
      "metadata": {
        "id": "bfSqtnDqZNRR"
      }
    },
    {
      "cell_type": "markdown",
      "source": [
        "#### Chart - 15 - Pair Plot"
      ],
      "metadata": {
        "id": "q29F0dvdveiT"
      }
    },
    {
      "cell_type": "code",
      "source": [
        "# Pair Plot visualization code"
      ],
      "metadata": {
        "id": "o58-TEIhveiU"
      },
      "execution_count": null,
      "outputs": []
    },
    {
      "cell_type": "markdown",
      "source": [
        "##### 1. Why did you pick the specific chart?"
      ],
      "metadata": {
        "id": "EXh0U9oCveiU"
      }
    },
    {
      "cell_type": "markdown",
      "source": [
        "Answer Here."
      ],
      "metadata": {
        "id": "eMmPjTByveiU"
      }
    },
    {
      "cell_type": "markdown",
      "source": [
        "##### 2. What is/are the insight(s) found from the chart?"
      ],
      "metadata": {
        "id": "22aHeOlLveiV"
      }
    },
    {
      "cell_type": "markdown",
      "source": [
        "Answer Here"
      ],
      "metadata": {
        "id": "uPQ8RGwHveiV"
      }
    },
    {
      "cell_type": "markdown",
      "source": [
        "## ***5. Hypothesis Testing***"
      ],
      "metadata": {
        "id": "g-ATYxFrGrvw"
      }
    },
    {
      "cell_type": "markdown",
      "source": [
        "### Based on your chart experiments, define three hypothetical statements from the dataset. In the next three questions, perform hypothesis testing to obtain final conclusion about the statements through your code and statistical testing."
      ],
      "metadata": {
        "id": "Yfr_Vlr8HBkt"
      }
    },
    {
      "cell_type": "markdown",
      "source": [
        "Answer Here."
      ],
      "metadata": {
        "id": "-7MS06SUHkB-"
      }
    },
    {
      "cell_type": "markdown",
      "source": [
        "### Hypothetical Statement - 1"
      ],
      "metadata": {
        "id": "8yEUt7NnHlrM"
      }
    },
    {
      "cell_type": "markdown",
      "source": [
        "#### 1. State Your research hypothesis as a null hypothesis and alternate hypothesis."
      ],
      "metadata": {
        "id": "tEA2Xm5dHt1r"
      }
    },
    {
      "cell_type": "markdown",
      "source": [
        "Answer Here."
      ],
      "metadata": {
        "id": "HI9ZP0laH0D-"
      }
    },
    {
      "cell_type": "markdown",
      "source": [
        "#### 2. Perform an appropriate statistical test."
      ],
      "metadata": {
        "id": "I79__PHVH19G"
      }
    },
    {
      "cell_type": "code",
      "source": [
        "# Perform Statistical Test to obtain P-Value"
      ],
      "metadata": {
        "id": "oZrfquKtyian"
      },
      "execution_count": null,
      "outputs": []
    },
    {
      "cell_type": "markdown",
      "source": [
        "##### Which statistical test have you done to obtain P-Value?"
      ],
      "metadata": {
        "id": "Ou-I18pAyIpj"
      }
    },
    {
      "cell_type": "markdown",
      "source": [
        "Answer Here."
      ],
      "metadata": {
        "id": "s2U0kk00ygSB"
      }
    },
    {
      "cell_type": "markdown",
      "source": [
        "##### Why did you choose the specific statistical test?"
      ],
      "metadata": {
        "id": "fF3858GYyt-u"
      }
    },
    {
      "cell_type": "markdown",
      "source": [
        "Answer Here."
      ],
      "metadata": {
        "id": "HO4K0gP5y3B4"
      }
    },
    {
      "cell_type": "markdown",
      "source": [
        "### Hypothetical Statement - 2"
      ],
      "metadata": {
        "id": "4_0_7-oCpUZd"
      }
    },
    {
      "cell_type": "markdown",
      "source": [
        "#### 1. State Your research hypothesis as a null hypothesis and alternate hypothesis."
      ],
      "metadata": {
        "id": "hwyV_J3ipUZe"
      }
    },
    {
      "cell_type": "markdown",
      "source": [
        "Answer Here."
      ],
      "metadata": {
        "id": "FnpLGJ-4pUZe"
      }
    },
    {
      "cell_type": "markdown",
      "source": [
        "#### 2. Perform an appropriate statistical test."
      ],
      "metadata": {
        "id": "3yB-zSqbpUZe"
      }
    },
    {
      "cell_type": "code",
      "source": [
        "# Perform Statistical Test to obtain P-Value"
      ],
      "metadata": {
        "id": "sWxdNTXNpUZe"
      },
      "execution_count": null,
      "outputs": []
    },
    {
      "cell_type": "markdown",
      "source": [
        "##### Which statistical test have you done to obtain P-Value?"
      ],
      "metadata": {
        "id": "dEUvejAfpUZe"
      }
    },
    {
      "cell_type": "markdown",
      "source": [
        "Answer Here."
      ],
      "metadata": {
        "id": "oLDrPz7HpUZf"
      }
    },
    {
      "cell_type": "markdown",
      "source": [
        "##### Why did you choose the specific statistical test?"
      ],
      "metadata": {
        "id": "Fd15vwWVpUZf"
      }
    },
    {
      "cell_type": "markdown",
      "source": [
        "Answer Here."
      ],
      "metadata": {
        "id": "4xOGYyiBpUZf"
      }
    },
    {
      "cell_type": "markdown",
      "source": [
        "### Hypothetical Statement - 3"
      ],
      "metadata": {
        "id": "bn_IUdTipZyH"
      }
    },
    {
      "cell_type": "markdown",
      "source": [
        "#### 1. State Your research hypothesis as a null hypothesis and alternate hypothesis."
      ],
      "metadata": {
        "id": "49K5P_iCpZyH"
      }
    },
    {
      "cell_type": "markdown",
      "source": [
        "Answer Here."
      ],
      "metadata": {
        "id": "7gWI5rT9pZyH"
      }
    },
    {
      "cell_type": "markdown",
      "source": [
        "#### 2. Perform an appropriate statistical test."
      ],
      "metadata": {
        "id": "Nff-vKELpZyI"
      }
    },
    {
      "cell_type": "code",
      "source": [
        "# Perform Statistical Test to obtain P-Value"
      ],
      "metadata": {
        "id": "s6AnJQjtpZyI"
      },
      "execution_count": null,
      "outputs": []
    },
    {
      "cell_type": "markdown",
      "source": [
        "##### Which statistical test have you done to obtain P-Value?"
      ],
      "metadata": {
        "id": "kLW572S8pZyI"
      }
    },
    {
      "cell_type": "markdown",
      "source": [
        "Answer Here."
      ],
      "metadata": {
        "id": "ytWJ8v15pZyI"
      }
    },
    {
      "cell_type": "markdown",
      "source": [
        "##### Why did you choose the specific statistical test?"
      ],
      "metadata": {
        "id": "dWbDXHzopZyI"
      }
    },
    {
      "cell_type": "markdown",
      "source": [
        "Answer Here."
      ],
      "metadata": {
        "id": "M99G98V6pZyI"
      }
    },
    {
      "cell_type": "markdown",
      "source": [
        "## ***6. Feature Engineering & Data Pre-processing***"
      ],
      "metadata": {
        "id": "yLjJCtPM0KBk"
      }
    },
    {
      "cell_type": "markdown",
      "source": [
        "### 1. Handling Missing Values"
      ],
      "metadata": {
        "id": "xiyOF9F70UgQ"
      }
    },
    {
      "cell_type": "code",
      "source": [
        "# Handling Missing Values & Missing Value Imputation"
      ],
      "metadata": {
        "id": "iRsAHk1K0fpS"
      },
      "execution_count": null,
      "outputs": []
    },
    {
      "cell_type": "markdown",
      "source": [
        "#### What all missing value imputation techniques have you used and why did you use those techniques?"
      ],
      "metadata": {
        "id": "7wuGOrhz0itI"
      }
    },
    {
      "cell_type": "markdown",
      "source": [
        "Answer Here."
      ],
      "metadata": {
        "id": "1ixusLtI0pqI"
      }
    },
    {
      "cell_type": "markdown",
      "source": [
        "### 2. Handling Outliers"
      ],
      "metadata": {
        "id": "id1riN9m0vUs"
      }
    },
    {
      "cell_type": "code",
      "source": [
        "# Handling Outliers & Outlier treatments"
      ],
      "metadata": {
        "id": "M6w2CzZf04JK"
      },
      "execution_count": null,
      "outputs": []
    },
    {
      "cell_type": "markdown",
      "source": [
        "##### What all outlier treatment techniques have you used and why did you use those techniques?"
      ],
      "metadata": {
        "id": "578E2V7j08f6"
      }
    },
    {
      "cell_type": "markdown",
      "source": [
        "Answer Here."
      ],
      "metadata": {
        "id": "uGZz5OrT1HH-"
      }
    },
    {
      "cell_type": "markdown",
      "source": [
        "### 3. Categorical Encoding"
      ],
      "metadata": {
        "id": "89xtkJwZ18nB"
      }
    },
    {
      "cell_type": "code",
      "source": [
        "# Encode your categorical columns"
      ],
      "metadata": {
        "id": "21JmIYMG2hEo"
      },
      "execution_count": null,
      "outputs": []
    },
    {
      "cell_type": "markdown",
      "source": [
        "#### What all categorical encoding techniques have you used & why did you use those techniques?"
      ],
      "metadata": {
        "id": "67NQN5KX2AMe"
      }
    },
    {
      "cell_type": "markdown",
      "source": [
        "Answer Here."
      ],
      "metadata": {
        "id": "UDaue5h32n_G"
      }
    },
    {
      "cell_type": "markdown",
      "source": [
        "### 4. Textual Data Preprocessing\n",
        "(It's mandatory for textual dataset i.e., NLP, Sentiment Analysis, Text Clustering etc.)"
      ],
      "metadata": {
        "id": "Iwf50b-R2tYG"
      }
    },
    {
      "cell_type": "markdown",
      "source": [
        "#### 1. Expand Contraction"
      ],
      "metadata": {
        "id": "GMQiZwjn3iu7"
      }
    },
    {
      "cell_type": "code",
      "source": [
        "# Expand Contraction"
      ],
      "metadata": {
        "id": "PTouz10C3oNN"
      },
      "execution_count": null,
      "outputs": []
    },
    {
      "cell_type": "markdown",
      "source": [
        "#### 2. Lower Casing"
      ],
      "metadata": {
        "id": "WVIkgGqN3qsr"
      }
    },
    {
      "cell_type": "code",
      "source": [
        "# Lower Casing"
      ],
      "metadata": {
        "id": "88JnJ1jN3w7j"
      },
      "execution_count": null,
      "outputs": []
    },
    {
      "cell_type": "markdown",
      "source": [
        "#### 3. Removing Punctuations"
      ],
      "metadata": {
        "id": "XkPnILGE3zoT"
      }
    },
    {
      "cell_type": "code",
      "source": [
        "# Remove Punctuations"
      ],
      "metadata": {
        "id": "vqbBqNaA33c0"
      },
      "execution_count": null,
      "outputs": []
    },
    {
      "cell_type": "markdown",
      "source": [
        "#### 4. Removing URLs & Removing words and digits contain digits."
      ],
      "metadata": {
        "id": "Hlsf0x5436Go"
      }
    },
    {
      "cell_type": "code",
      "source": [
        "# Remove URLs & Remove words and digits contain digits"
      ],
      "metadata": {
        "id": "2sxKgKxu4Ip3"
      },
      "execution_count": null,
      "outputs": []
    },
    {
      "cell_type": "markdown",
      "source": [
        "#### 5. Removing Stopwords & Removing White spaces"
      ],
      "metadata": {
        "id": "mT9DMSJo4nBL"
      }
    },
    {
      "cell_type": "code",
      "source": [
        "# Remove Stopwords"
      ],
      "metadata": {
        "id": "T2LSJh154s8W"
      },
      "execution_count": null,
      "outputs": []
    },
    {
      "cell_type": "code",
      "source": [
        "# Remove White spaces"
      ],
      "metadata": {
        "id": "EgLJGffy4vm0"
      },
      "execution_count": null,
      "outputs": []
    },
    {
      "cell_type": "markdown",
      "source": [
        "#### 6. Rephrase Text"
      ],
      "metadata": {
        "id": "c49ITxTc407N"
      }
    },
    {
      "cell_type": "code",
      "source": [
        "# Rephrase Text"
      ],
      "metadata": {
        "id": "foqY80Qu48N2"
      },
      "execution_count": null,
      "outputs": []
    },
    {
      "cell_type": "markdown",
      "source": [
        "#### 7. Tokenization"
      ],
      "metadata": {
        "id": "OeJFEK0N496M"
      }
    },
    {
      "cell_type": "code",
      "source": [
        "# Tokenization"
      ],
      "metadata": {
        "id": "ijx1rUOS5CUU"
      },
      "execution_count": null,
      "outputs": []
    },
    {
      "cell_type": "markdown",
      "source": [
        "#### 8. Text Normalization"
      ],
      "metadata": {
        "id": "9ExmJH0g5HBk"
      }
    },
    {
      "cell_type": "code",
      "source": [
        "# Normalizing Text (i.e., Stemming, Lemmatization etc.)"
      ],
      "metadata": {
        "id": "AIJ1a-Zc5PY8"
      },
      "execution_count": null,
      "outputs": []
    },
    {
      "cell_type": "markdown",
      "source": [
        "##### Which text normalization technique have you used and why?"
      ],
      "metadata": {
        "id": "cJNqERVU536h"
      }
    },
    {
      "cell_type": "markdown",
      "source": [
        "Answer Here."
      ],
      "metadata": {
        "id": "Z9jKVxE06BC1"
      }
    },
    {
      "cell_type": "markdown",
      "source": [
        "#### 9. Part of speech tagging"
      ],
      "metadata": {
        "id": "k5UmGsbsOxih"
      }
    },
    {
      "cell_type": "code",
      "source": [
        "# POS Taging"
      ],
      "metadata": {
        "id": "btT3ZJBAO6Ik"
      },
      "execution_count": null,
      "outputs": []
    },
    {
      "cell_type": "markdown",
      "source": [
        "#### 10. Text Vectorization"
      ],
      "metadata": {
        "id": "T0VqWOYE6DLQ"
      }
    },
    {
      "cell_type": "code",
      "source": [
        "# Vectorizing Text"
      ],
      "metadata": {
        "id": "yBRtdhth6JDE"
      },
      "execution_count": null,
      "outputs": []
    },
    {
      "cell_type": "markdown",
      "source": [
        "##### Which text vectorization technique have you used and why?"
      ],
      "metadata": {
        "id": "qBMux9mC6MCf"
      }
    },
    {
      "cell_type": "markdown",
      "source": [
        "Answer Here."
      ],
      "metadata": {
        "id": "su2EnbCh6UKQ"
      }
    },
    {
      "cell_type": "markdown",
      "source": [
        "### 4. Feature Manipulation & Selection"
      ],
      "metadata": {
        "id": "-oLEiFgy-5Pf"
      }
    },
    {
      "cell_type": "markdown",
      "source": [
        "#### 1. Feature Manipulation"
      ],
      "metadata": {
        "id": "C74aWNz2AliB"
      }
    },
    {
      "cell_type": "code",
      "source": [
        "# Manipulate Features to minimize feature correlation and create new features"
      ],
      "metadata": {
        "id": "h1qC4yhBApWC"
      },
      "execution_count": null,
      "outputs": []
    },
    {
      "cell_type": "markdown",
      "source": [
        "#### 2. Feature Selection"
      ],
      "metadata": {
        "id": "2DejudWSA-a0"
      }
    },
    {
      "cell_type": "code",
      "source": [
        "# Select your features wisely to avoid overfitting"
      ],
      "metadata": {
        "id": "YLhe8UmaBCEE"
      },
      "execution_count": null,
      "outputs": []
    },
    {
      "cell_type": "markdown",
      "source": [
        "##### What all feature selection methods have you used  and why?"
      ],
      "metadata": {
        "id": "pEMng2IbBLp7"
      }
    },
    {
      "cell_type": "markdown",
      "source": [
        "Answer Here."
      ],
      "metadata": {
        "id": "rb2Lh6Z8BgGs"
      }
    },
    {
      "cell_type": "markdown",
      "source": [
        "##### Which all features you found important and why?"
      ],
      "metadata": {
        "id": "rAdphbQ9Bhjc"
      }
    },
    {
      "cell_type": "markdown",
      "source": [
        "Answer Here."
      ],
      "metadata": {
        "id": "fGgaEstsBnaf"
      }
    },
    {
      "cell_type": "markdown",
      "source": [
        "### 5. Data Transformation"
      ],
      "metadata": {
        "id": "TNVZ9zx19K6k"
      }
    },
    {
      "cell_type": "markdown",
      "source": [
        "#### Do you think that your data needs to be transformed? If yes, which transformation have you used. Explain Why?"
      ],
      "metadata": {
        "id": "nqoHp30x9hH9"
      }
    },
    {
      "cell_type": "code",
      "source": [
        "# Transform Your data"
      ],
      "metadata": {
        "id": "I6quWQ1T9rtH"
      },
      "execution_count": null,
      "outputs": []
    },
    {
      "cell_type": "markdown",
      "source": [
        "### 6. Data Scaling"
      ],
      "metadata": {
        "id": "rMDnDkt2B6du"
      }
    },
    {
      "cell_type": "code",
      "source": [
        "# Scaling your data"
      ],
      "metadata": {
        "id": "dL9LWpySC6x_"
      },
      "execution_count": null,
      "outputs": []
    },
    {
      "cell_type": "markdown",
      "source": [
        "##### Which method have you used to scale you data and why?"
      ],
      "metadata": {
        "id": "yiiVWRdJDDil"
      }
    },
    {
      "cell_type": "markdown",
      "source": [
        "### 7. Dimesionality Reduction"
      ],
      "metadata": {
        "id": "1UUpS68QDMuG"
      }
    },
    {
      "cell_type": "markdown",
      "source": [
        "##### Do you think that dimensionality reduction is needed? Explain Why?"
      ],
      "metadata": {
        "id": "kexQrXU-DjzY"
      }
    },
    {
      "cell_type": "markdown",
      "source": [
        "Answer Here."
      ],
      "metadata": {
        "id": "GGRlBsSGDtTQ"
      }
    },
    {
      "cell_type": "code",
      "source": [
        "# DImensionality Reduction (If needed)"
      ],
      "metadata": {
        "id": "kQfvxBBHDvCa"
      },
      "execution_count": null,
      "outputs": []
    },
    {
      "cell_type": "markdown",
      "source": [
        "##### Which dimensionality reduction technique have you used and why? (If dimensionality reduction done on dataset.)"
      ],
      "metadata": {
        "id": "T5CmagL3EC8N"
      }
    },
    {
      "cell_type": "markdown",
      "source": [
        "Answer Here."
      ],
      "metadata": {
        "id": "ZKr75IDuEM7t"
      }
    },
    {
      "cell_type": "markdown",
      "source": [
        "### 8. Data Splitting"
      ],
      "metadata": {
        "id": "BhH2vgX9EjGr"
      }
    },
    {
      "cell_type": "code",
      "source": [
        "# Split your data to train and test. Choose Splitting ratio wisely."
      ],
      "metadata": {
        "id": "0CTyd2UwEyNM"
      },
      "execution_count": null,
      "outputs": []
    },
    {
      "cell_type": "markdown",
      "source": [
        "##### What data splitting ratio have you used and why?"
      ],
      "metadata": {
        "id": "qjKvONjwE8ra"
      }
    },
    {
      "cell_type": "markdown",
      "source": [
        "Answer Here."
      ],
      "metadata": {
        "id": "Y2lJ8cobFDb_"
      }
    },
    {
      "cell_type": "markdown",
      "source": [
        "### 9. Handling Imbalanced Dataset"
      ],
      "metadata": {
        "id": "P1XJ9OREExlT"
      }
    },
    {
      "cell_type": "markdown",
      "source": [
        "##### Do you think the dataset is imbalanced? Explain Why."
      ],
      "metadata": {
        "id": "VFOzZv6IFROw"
      }
    },
    {
      "cell_type": "markdown",
      "source": [
        "Answer Here."
      ],
      "metadata": {
        "id": "GeKDIv7pFgcC"
      }
    },
    {
      "cell_type": "code",
      "source": [
        "# Handling Imbalanced Dataset (If needed)"
      ],
      "metadata": {
        "id": "nQsRhhZLFiDs"
      },
      "execution_count": null,
      "outputs": []
    },
    {
      "cell_type": "markdown",
      "source": [
        "##### What technique did you use to handle the imbalance dataset and why? (If needed to be balanced)"
      ],
      "metadata": {
        "id": "TIqpNgepFxVj"
      }
    },
    {
      "cell_type": "markdown",
      "source": [
        "Answer Here."
      ],
      "metadata": {
        "id": "qbet1HwdGDTz"
      }
    },
    {
      "cell_type": "markdown",
      "source": [
        "## ***7. ML Model Implementation***"
      ],
      "metadata": {
        "id": "VfCC591jGiD4"
      }
    },
    {
      "cell_type": "markdown",
      "source": [
        "### ML Model - 1"
      ],
      "metadata": {
        "id": "OB4l2ZhMeS1U"
      }
    },
    {
      "cell_type": "code",
      "source": [
        "# ML Model - 1 Implementation\n",
        "\n",
        "# Fit the Algorithm\n",
        "\n",
        "# Predict on the model"
      ],
      "metadata": {
        "id": "7ebyywQieS1U"
      },
      "execution_count": null,
      "outputs": []
    },
    {
      "cell_type": "markdown",
      "source": [
        "#### 1. Explain the ML Model used and it's performance using Evaluation metric Score Chart."
      ],
      "metadata": {
        "id": "ArJBuiUVfxKd"
      }
    },
    {
      "cell_type": "code",
      "source": [
        "# Visualizing evaluation Metric Score chart"
      ],
      "metadata": {
        "id": "rqD5ZohzfxKe"
      },
      "execution_count": null,
      "outputs": []
    },
    {
      "cell_type": "markdown",
      "source": [
        "#### 2. Cross- Validation & Hyperparameter Tuning"
      ],
      "metadata": {
        "id": "4qY1EAkEfxKe"
      }
    },
    {
      "cell_type": "code",
      "source": [
        "# ML Model - 1 Implementation with hyperparameter optimization techniques (i.e., GridSearch CV, RandomSearch CV, Bayesian Optimization etc.)\n",
        "\n",
        "# Fit the Algorithm\n",
        "\n",
        "# Predict on the model"
      ],
      "metadata": {
        "id": "Dy61ujd6fxKe"
      },
      "execution_count": null,
      "outputs": []
    },
    {
      "cell_type": "markdown",
      "source": [
        "##### Which hyperparameter optimization technique have you used and why?"
      ],
      "metadata": {
        "id": "PiV4Ypx8fxKe"
      }
    },
    {
      "cell_type": "markdown",
      "source": [
        "Answer Here."
      ],
      "metadata": {
        "id": "negyGRa7fxKf"
      }
    },
    {
      "cell_type": "markdown",
      "source": [
        "##### Have you seen any improvement? Note down the improvement with updates Evaluation metric Score Chart."
      ],
      "metadata": {
        "id": "TfvqoZmBfxKf"
      }
    },
    {
      "cell_type": "markdown",
      "source": [
        "Answer Here."
      ],
      "metadata": {
        "id": "OaLui8CcfxKf"
      }
    },
    {
      "cell_type": "markdown",
      "source": [
        "### ML Model - 2"
      ],
      "metadata": {
        "id": "dJ2tPlVmpsJ0"
      }
    },
    {
      "cell_type": "markdown",
      "source": [
        "#### 1. Explain the ML Model used and it's performance using Evaluation metric Score Chart."
      ],
      "metadata": {
        "id": "JWYfwnehpsJ1"
      }
    },
    {
      "cell_type": "code",
      "source": [
        "# Visualizing evaluation Metric Score chart"
      ],
      "metadata": {
        "id": "yEl-hgQWpsJ1"
      },
      "execution_count": null,
      "outputs": []
    },
    {
      "cell_type": "markdown",
      "source": [
        "#### 2. Cross- Validation & Hyperparameter Tuning"
      ],
      "metadata": {
        "id": "-jK_YjpMpsJ2"
      }
    },
    {
      "cell_type": "code",
      "source": [
        "# ML Model - 1 Implementation with hyperparameter optimization techniques (i.e., GridSearch CV, RandomSearch CV, Bayesian Optimization etc.)\n",
        "\n",
        "# Fit the Algorithm\n",
        "\n",
        "# Predict on the model"
      ],
      "metadata": {
        "id": "Dn0EOfS6psJ2"
      },
      "execution_count": null,
      "outputs": []
    },
    {
      "cell_type": "markdown",
      "source": [
        "##### Which hyperparameter optimization technique have you used and why?"
      ],
      "metadata": {
        "id": "HAih1iBOpsJ2"
      }
    },
    {
      "cell_type": "markdown",
      "source": [
        "Answer Here."
      ],
      "metadata": {
        "id": "9kBgjYcdpsJ2"
      }
    },
    {
      "cell_type": "markdown",
      "source": [
        "##### Have you seen any improvement? Note down the improvement with updates Evaluation metric Score Chart."
      ],
      "metadata": {
        "id": "zVGeBEFhpsJ2"
      }
    },
    {
      "cell_type": "markdown",
      "source": [
        "Answer Here."
      ],
      "metadata": {
        "id": "74yRdG6UpsJ3"
      }
    },
    {
      "cell_type": "markdown",
      "source": [
        "#### 3. Explain each evaluation metric's indication towards business and the business impact pf the ML model used."
      ],
      "metadata": {
        "id": "bmKjuQ-FpsJ3"
      }
    },
    {
      "cell_type": "markdown",
      "source": [
        "Answer Here."
      ],
      "metadata": {
        "id": "BDKtOrBQpsJ3"
      }
    },
    {
      "cell_type": "markdown",
      "source": [
        "### ML Model - 3"
      ],
      "metadata": {
        "id": "Fze-IPXLpx6K"
      }
    },
    {
      "cell_type": "code",
      "source": [
        "# ML Model - 3 Implementation\n",
        "\n",
        "# Fit the Algorithm\n",
        "\n",
        "# Predict on the model"
      ],
      "metadata": {
        "id": "FFrSXAtrpx6M"
      },
      "execution_count": null,
      "outputs": []
    },
    {
      "cell_type": "markdown",
      "source": [
        "#### 1. Explain the ML Model used and it's performance using Evaluation metric Score Chart."
      ],
      "metadata": {
        "id": "7AN1z2sKpx6M"
      }
    },
    {
      "cell_type": "code",
      "source": [
        "# Visualizing evaluation Metric Score chart"
      ],
      "metadata": {
        "id": "xIY4lxxGpx6M"
      },
      "execution_count": null,
      "outputs": []
    },
    {
      "cell_type": "markdown",
      "source": [
        "#### 2. Cross- Validation & Hyperparameter Tuning"
      ],
      "metadata": {
        "id": "9PIHJqyupx6M"
      }
    },
    {
      "cell_type": "code",
      "source": [
        "# ML Model - 3 Implementation with hyperparameter optimization techniques (i.e., GridSearch CV, RandomSearch CV, Bayesian Optimization etc.)\n",
        "\n",
        "# Fit the Algorithm\n",
        "\n",
        "# Predict on the model"
      ],
      "metadata": {
        "id": "eSVXuaSKpx6M"
      },
      "execution_count": null,
      "outputs": []
    },
    {
      "cell_type": "markdown",
      "source": [
        "##### Which hyperparameter optimization technique have you used and why?"
      ],
      "metadata": {
        "id": "_-qAgymDpx6N"
      }
    },
    {
      "cell_type": "markdown",
      "source": [
        "Answer Here."
      ],
      "metadata": {
        "id": "lQMffxkwpx6N"
      }
    },
    {
      "cell_type": "markdown",
      "source": [
        "##### Have you seen any improvement? Note down the improvement with updates Evaluation metric Score Chart."
      ],
      "metadata": {
        "id": "Z-hykwinpx6N"
      }
    },
    {
      "cell_type": "markdown",
      "source": [
        "Answer Here."
      ],
      "metadata": {
        "id": "MzVzZC6opx6N"
      }
    },
    {
      "cell_type": "markdown",
      "source": [
        "### 1. Which Evaluation metrics did you consider for a positive business impact and why?"
      ],
      "metadata": {
        "id": "h_CCil-SKHpo"
      }
    },
    {
      "cell_type": "markdown",
      "source": [
        "Answer Here."
      ],
      "metadata": {
        "id": "jHVz9hHDKFms"
      }
    },
    {
      "cell_type": "markdown",
      "source": [
        "### 2. Which ML model did you choose from the above created models as your final prediction model and why?"
      ],
      "metadata": {
        "id": "cBFFvTBNJzUa"
      }
    },
    {
      "cell_type": "markdown",
      "source": [
        "Answer Here."
      ],
      "metadata": {
        "id": "6ksF5Q1LKTVm"
      }
    },
    {
      "cell_type": "markdown",
      "source": [
        "### 3. Explain the model which you have used and the feature importance using any model explainability tool?"
      ],
      "metadata": {
        "id": "HvGl1hHyA_VK"
      }
    },
    {
      "cell_type": "markdown",
      "source": [
        "Answer Here."
      ],
      "metadata": {
        "id": "YnvVTiIxBL-C"
      }
    },
    {
      "cell_type": "markdown",
      "source": [
        "## ***8.*** ***Future Work (Optional)***"
      ],
      "metadata": {
        "id": "EyNgTHvd2WFk"
      }
    },
    {
      "cell_type": "markdown",
      "source": [
        "### 1. Save the best performing ml model in a pickle file or joblib file format for deployment process.\n"
      ],
      "metadata": {
        "id": "KH5McJBi2d8v"
      }
    },
    {
      "cell_type": "code",
      "source": [
        "# Save the File"
      ],
      "metadata": {
        "id": "bQIANRl32f4J"
      },
      "execution_count": null,
      "outputs": []
    },
    {
      "cell_type": "markdown",
      "source": [
        "### 2. Again Load the saved model file and try to predict unseen data for a sanity check.\n"
      ],
      "metadata": {
        "id": "iW_Lq9qf2h6X"
      }
    },
    {
      "cell_type": "code",
      "source": [
        "# Load the File and predict unseen data."
      ],
      "metadata": {
        "id": "oEXk9ydD2nVC"
      },
      "execution_count": null,
      "outputs": []
    },
    {
      "cell_type": "markdown",
      "source": [
        "### ***Congrats! Your model is successfully created and ready for deployment on a live server for a real user interaction !!!***"
      ],
      "metadata": {
        "id": "-Kee-DAl2viO"
      }
    },
    {
      "cell_type": "markdown",
      "source": [
        "# **Conclusion**"
      ],
      "metadata": {
        "id": "gCX9965dhzqZ"
      }
    },
    {
      "cell_type": "markdown",
      "source": [
        "Write the conclusion here."
      ],
      "metadata": {
        "id": "Fjb1IsQkh3yE"
      }
    },
    {
      "cell_type": "markdown",
      "source": [
        "### ***Hurrah! You have successfully completed your Machine Learning Capstone Project !!!***"
      ],
      "metadata": {
        "id": "gIfDvo9L0UH2"
      }
    }
  ]
}